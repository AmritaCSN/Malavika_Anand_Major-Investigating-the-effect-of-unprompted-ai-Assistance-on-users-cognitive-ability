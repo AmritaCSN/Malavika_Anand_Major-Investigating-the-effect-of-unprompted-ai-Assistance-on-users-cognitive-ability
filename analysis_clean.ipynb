{
 "cells": [
  {
   "cell_type": "markdown",
   "metadata": {},
   "source": [
    "# Evaluating the Scores"
   ]
  },
  {
   "cell_type": "code",
   "execution_count": 1,
   "metadata": {},
   "outputs": [],
   "source": [
    "import pandas as pd\n",
    "import numpy as np\n",
    "import os\n",
    "import cleanup as cl\n",
    "import seaborn as sns\n",
    "%load_ext autoreload\n",
    "%autoreload 2\n",
    "\n",
    "df_questions_table = pd.read_csv('data/questions.csv')\n",
    "df_prompted_table = pd.read_csv('data/prompted.csv', low_memory=False)\n",
    "df_unprompted_table = pd.read_csv('data/unprompted.csv',low_memory=False)\n",
    "df_no_assistance_table = pd.read_csv('data/noassistance.csv',low_memory=False)\n",
    "df_feedback_ques = pd.read_csv('data/feedback.csv',low_memory=False)\n",
    "df_feedback_ans = pd.read_csv('data/feedbackans.csv',low_memory=False)\n",
    "user_data_df = pd.read_csv('data/users.csv')"
   ]
  },
  {
   "cell_type": "code",
   "execution_count": 2,
   "metadata": {},
   "outputs": [],
   "source": [
    "low=60; high =1500\n",
    "prompted_df = cl.cleanup_data(df_prompted_table, low, high)\n",
    "unprompted_df = cl.cleanup_data(df_unprompted_table, low, high)\n",
    "no_as_df = cl.cleanup_data(df_no_assistance_table, low, high)\n"
   ]
  },
  {
   "cell_type": "code",
   "execution_count": 3,
   "metadata": {},
   "outputs": [
    {
     "data": {
      "text/html": [
       "<div>\n",
       "<style scoped>\n",
       "    .dataframe tbody tr th:only-of-type {\n",
       "        vertical-align: middle;\n",
       "    }\n",
       "\n",
       "    .dataframe tbody tr th {\n",
       "        vertical-align: top;\n",
       "    }\n",
       "\n",
       "    .dataframe thead th {\n",
       "        text-align: right;\n",
       "    }\n",
       "</style>\n",
       "<table border=\"1\" class=\"dataframe\">\n",
       "  <thead>\n",
       "    <tr style=\"text-align: right;\">\n",
       "      <th></th>\n",
       "      <th>id</th>\n",
       "      <th>user</th>\n",
       "      <th>action</th>\n",
       "      <th>page</th>\n",
       "      <th>time</th>\n",
       "      <th>date</th>\n",
       "      <th>date_diff</th>\n",
       "      <th>score</th>\n",
       "    </tr>\n",
       "  </thead>\n",
       "  <tbody>\n",
       "    <tr>\n",
       "      <th>12</th>\n",
       "      <td>15537.0</td>\n",
       "      <td>175018</td>\n",
       "      <td>A</td>\n",
       "      <td>1</td>\n",
       "      <td>09:48:17</td>\n",
       "      <td>2024-05-07 09:48:24.332271+05:30</td>\n",
       "      <td>0 days 00:00:00</td>\n",
       "      <td>1</td>\n",
       "    </tr>\n",
       "    <tr>\n",
       "      <th>13</th>\n",
       "      <td>15539.0</td>\n",
       "      <td>175018</td>\n",
       "      <td>D</td>\n",
       "      <td>2</td>\n",
       "      <td>09:48:26</td>\n",
       "      <td>2024-05-07 09:48:36.807198+05:30</td>\n",
       "      <td>0 days 00:00:12.474927</td>\n",
       "      <td>0</td>\n",
       "    </tr>\n",
       "    <tr>\n",
       "      <th>14</th>\n",
       "      <td>15541.0</td>\n",
       "      <td>175018</td>\n",
       "      <td>D</td>\n",
       "      <td>3</td>\n",
       "      <td>09:48:37</td>\n",
       "      <td>2024-05-07 09:48:42.706785+05:30</td>\n",
       "      <td>0 days 00:00:05.899587</td>\n",
       "      <td>1</td>\n",
       "    </tr>\n",
       "    <tr>\n",
       "      <th>15</th>\n",
       "      <td>15543.0</td>\n",
       "      <td>175018</td>\n",
       "      <td>D</td>\n",
       "      <td>4</td>\n",
       "      <td>09:48:43</td>\n",
       "      <td>2024-05-07 09:48:48.106587+05:30</td>\n",
       "      <td>0 days 00:00:05.399802</td>\n",
       "      <td>1</td>\n",
       "    </tr>\n",
       "    <tr>\n",
       "      <th>16</th>\n",
       "      <td>15545.0</td>\n",
       "      <td>175018</td>\n",
       "      <td>D</td>\n",
       "      <td>5</td>\n",
       "      <td>09:48:48</td>\n",
       "      <td>2024-05-07 09:48:54.892133+05:30</td>\n",
       "      <td>0 days 00:00:06.785546</td>\n",
       "      <td>1</td>\n",
       "    </tr>\n",
       "    <tr>\n",
       "      <th>...</th>\n",
       "      <td>...</td>\n",
       "      <td>...</td>\n",
       "      <td>...</td>\n",
       "      <td>...</td>\n",
       "      <td>...</td>\n",
       "      <td>...</td>\n",
       "      <td>...</td>\n",
       "      <td>...</td>\n",
       "    </tr>\n",
       "    <tr>\n",
       "      <th>919</th>\n",
       "      <td>14636.0</td>\n",
       "      <td>test</td>\n",
       "      <td>D</td>\n",
       "      <td>10</td>\n",
       "      <td>15:37:37</td>\n",
       "      <td>2024-05-02 15:37:37.906470+05:30</td>\n",
       "      <td>0 days 00:00:02.828881</td>\n",
       "      <td>0</td>\n",
       "    </tr>\n",
       "    <tr>\n",
       "      <th>920</th>\n",
       "      <td>14638.0</td>\n",
       "      <td>test</td>\n",
       "      <td>C</td>\n",
       "      <td>11</td>\n",
       "      <td>15:37:40</td>\n",
       "      <td>2024-05-02 15:37:41.229249+05:30</td>\n",
       "      <td>0 days 00:00:03.322779</td>\n",
       "      <td>1</td>\n",
       "    </tr>\n",
       "    <tr>\n",
       "      <th>921</th>\n",
       "      <td>14640.0</td>\n",
       "      <td>test</td>\n",
       "      <td>B</td>\n",
       "      <td>12</td>\n",
       "      <td>15:37:45</td>\n",
       "      <td>2024-05-02 15:37:47.060331+05:30</td>\n",
       "      <td>0 days 00:00:05.831082</td>\n",
       "      <td>1</td>\n",
       "    </tr>\n",
       "    <tr>\n",
       "      <th>922</th>\n",
       "      <td>14644.0</td>\n",
       "      <td>test</td>\n",
       "      <td>B</td>\n",
       "      <td>1</td>\n",
       "      <td>15:42:40</td>\n",
       "      <td>2024-05-02 15:43:33.680688+05:30</td>\n",
       "      <td>0 days 00:05:46.620357</td>\n",
       "      <td>0</td>\n",
       "    </tr>\n",
       "    <tr>\n",
       "      <th>923</th>\n",
       "      <td>14647.0</td>\n",
       "      <td>test</td>\n",
       "      <td>C</td>\n",
       "      <td>2</td>\n",
       "      <td>15:43:52</td>\n",
       "      <td>2024-05-02 15:45:30.777630+05:30</td>\n",
       "      <td>0 days 00:01:57.096942</td>\n",
       "      <td>1</td>\n",
       "    </tr>\n",
       "  </tbody>\n",
       "</table>\n",
       "<p>828 rows × 8 columns</p>\n",
       "</div>"
      ],
      "text/plain": [
       "          id    user action  page      time                             date  \\\n",
       "12   15537.0  175018      A     1  09:48:17 2024-05-07 09:48:24.332271+05:30   \n",
       "13   15539.0  175018      D     2  09:48:26 2024-05-07 09:48:36.807198+05:30   \n",
       "14   15541.0  175018      D     3  09:48:37 2024-05-07 09:48:42.706785+05:30   \n",
       "15   15543.0  175018      D     4  09:48:43 2024-05-07 09:48:48.106587+05:30   \n",
       "16   15545.0  175018      D     5  09:48:48 2024-05-07 09:48:54.892133+05:30   \n",
       "..       ...     ...    ...   ...       ...                              ...   \n",
       "919  14636.0    test      D    10  15:37:37 2024-05-02 15:37:37.906470+05:30   \n",
       "920  14638.0    test      C    11  15:37:40 2024-05-02 15:37:41.229249+05:30   \n",
       "921  14640.0    test      B    12  15:37:45 2024-05-02 15:37:47.060331+05:30   \n",
       "922  14644.0    test      B     1  15:42:40 2024-05-02 15:43:33.680688+05:30   \n",
       "923  14647.0    test      C     2  15:43:52 2024-05-02 15:45:30.777630+05:30   \n",
       "\n",
       "                 date_diff  score  \n",
       "12         0 days 00:00:00      1  \n",
       "13  0 days 00:00:12.474927      0  \n",
       "14  0 days 00:00:05.899587      1  \n",
       "15  0 days 00:00:05.399802      1  \n",
       "16  0 days 00:00:06.785546      1  \n",
       "..                     ...    ...  \n",
       "919 0 days 00:00:02.828881      0  \n",
       "920 0 days 00:00:03.322779      1  \n",
       "921 0 days 00:00:05.831082      1  \n",
       "922 0 days 00:05:46.620357      0  \n",
       "923 0 days 00:01:57.096942      1  \n",
       "\n",
       "[828 rows x 8 columns]"
      ]
     },
     "execution_count": 3,
     "metadata": {},
     "output_type": "execute_result"
    }
   ],
   "source": [
    "prompted_df"
   ]
  },
  {
   "cell_type": "code",
   "execution_count": 4,
   "metadata": {},
   "outputs": [
    {
     "data": {
      "text/html": [
       "<div>\n",
       "<style scoped>\n",
       "    .dataframe tbody tr th:only-of-type {\n",
       "        vertical-align: middle;\n",
       "    }\n",
       "\n",
       "    .dataframe tbody tr th {\n",
       "        vertical-align: top;\n",
       "    }\n",
       "\n",
       "    .dataframe thead th {\n",
       "        text-align: right;\n",
       "    }\n",
       "</style>\n",
       "<table border=\"1\" class=\"dataframe\">\n",
       "  <thead>\n",
       "    <tr style=\"text-align: right;\">\n",
       "      <th></th>\n",
       "      <th>id</th>\n",
       "      <th>user</th>\n",
       "      <th>action</th>\n",
       "      <th>page</th>\n",
       "      <th>time</th>\n",
       "      <th>date</th>\n",
       "      <th>date_diff</th>\n",
       "      <th>score</th>\n",
       "    </tr>\n",
       "  </thead>\n",
       "  <tbody>\n",
       "    <tr>\n",
       "      <th>0</th>\n",
       "      <td>16238.0</td>\n",
       "      <td>088</td>\n",
       "      <td>B</td>\n",
       "      <td>1</td>\n",
       "      <td>18:41:14</td>\n",
       "      <td>2024-05-08 18:40:50.299848+05:30</td>\n",
       "      <td>0 days 00:00:00</td>\n",
       "      <td>0</td>\n",
       "    </tr>\n",
       "    <tr>\n",
       "      <th>1</th>\n",
       "      <td>16253.0</td>\n",
       "      <td>088</td>\n",
       "      <td>B</td>\n",
       "      <td>2</td>\n",
       "      <td>18:41:40</td>\n",
       "      <td>2024-05-08 18:41:19.025516+05:30</td>\n",
       "      <td>0 days 00:00:28.725668</td>\n",
       "      <td>0</td>\n",
       "    </tr>\n",
       "    <tr>\n",
       "      <th>2</th>\n",
       "      <td>16320.0</td>\n",
       "      <td>088</td>\n",
       "      <td>D</td>\n",
       "      <td>3</td>\n",
       "      <td>18:42:05</td>\n",
       "      <td>2024-05-08 18:43:16.764968+05:30</td>\n",
       "      <td>0 days 00:01:57.739452</td>\n",
       "      <td>1</td>\n",
       "    </tr>\n",
       "    <tr>\n",
       "      <th>3</th>\n",
       "      <td>16394.0</td>\n",
       "      <td>088</td>\n",
       "      <td>D</td>\n",
       "      <td>4</td>\n",
       "      <td>18:44:28</td>\n",
       "      <td>2024-05-08 18:45:08.824473+05:30</td>\n",
       "      <td>0 days 00:01:52.059505</td>\n",
       "      <td>1</td>\n",
       "    </tr>\n",
       "    <tr>\n",
       "      <th>4</th>\n",
       "      <td>16412.0</td>\n",
       "      <td>088</td>\n",
       "      <td>D</td>\n",
       "      <td>5</td>\n",
       "      <td>18:45:54</td>\n",
       "      <td>2024-05-08 18:45:30.916865+05:30</td>\n",
       "      <td>0 days 00:00:22.092392</td>\n",
       "      <td>1</td>\n",
       "    </tr>\n",
       "    <tr>\n",
       "      <th>...</th>\n",
       "      <td>...</td>\n",
       "      <td>...</td>\n",
       "      <td>...</td>\n",
       "      <td>...</td>\n",
       "      <td>...</td>\n",
       "      <td>...</td>\n",
       "      <td>...</td>\n",
       "      <td>...</td>\n",
       "    </tr>\n",
       "    <tr>\n",
       "      <th>1133</th>\n",
       "      <td>14668.0</td>\n",
       "      <td>vicky</td>\n",
       "      <td>A</td>\n",
       "      <td>8</td>\n",
       "      <td>12:00:40</td>\n",
       "      <td>2024-05-03 12:00:50.369947+05:30</td>\n",
       "      <td>0 days 00:00:11.068194</td>\n",
       "      <td>0</td>\n",
       "    </tr>\n",
       "    <tr>\n",
       "      <th>1134</th>\n",
       "      <td>14670.0</td>\n",
       "      <td>vicky</td>\n",
       "      <td>A</td>\n",
       "      <td>9</td>\n",
       "      <td>12:00:51</td>\n",
       "      <td>2024-05-03 12:01:06.039901+05:30</td>\n",
       "      <td>0 days 00:00:15.669954</td>\n",
       "      <td>0</td>\n",
       "    </tr>\n",
       "    <tr>\n",
       "      <th>1135</th>\n",
       "      <td>14672.0</td>\n",
       "      <td>vicky</td>\n",
       "      <td>C</td>\n",
       "      <td>10</td>\n",
       "      <td>12:01:08</td>\n",
       "      <td>2024-05-03 12:01:38.554830+05:30</td>\n",
       "      <td>0 days 00:00:32.514929</td>\n",
       "      <td>1</td>\n",
       "    </tr>\n",
       "    <tr>\n",
       "      <th>1136</th>\n",
       "      <td>14674.0</td>\n",
       "      <td>vicky</td>\n",
       "      <td>C</td>\n",
       "      <td>11</td>\n",
       "      <td>12:01:44</td>\n",
       "      <td>2024-05-03 12:01:58.320139+05:30</td>\n",
       "      <td>0 days 00:00:19.765309</td>\n",
       "      <td>1</td>\n",
       "    </tr>\n",
       "    <tr>\n",
       "      <th>1137</th>\n",
       "      <td>14676.0</td>\n",
       "      <td>vicky</td>\n",
       "      <td>B</td>\n",
       "      <td>12</td>\n",
       "      <td>12:02:06</td>\n",
       "      <td>2024-05-03 12:03:14.765741+05:30</td>\n",
       "      <td>0 days 00:01:16.445602</td>\n",
       "      <td>1</td>\n",
       "    </tr>\n",
       "  </tbody>\n",
       "</table>\n",
       "<p>1078 rows × 8 columns</p>\n",
       "</div>"
      ],
      "text/plain": [
       "           id   user action  page      time                             date  \\\n",
       "0     16238.0    088      B     1  18:41:14 2024-05-08 18:40:50.299848+05:30   \n",
       "1     16253.0    088      B     2  18:41:40 2024-05-08 18:41:19.025516+05:30   \n",
       "2     16320.0    088      D     3  18:42:05 2024-05-08 18:43:16.764968+05:30   \n",
       "3     16394.0    088      D     4  18:44:28 2024-05-08 18:45:08.824473+05:30   \n",
       "4     16412.0    088      D     5  18:45:54 2024-05-08 18:45:30.916865+05:30   \n",
       "...       ...    ...    ...   ...       ...                              ...   \n",
       "1133  14668.0  vicky      A     8  12:00:40 2024-05-03 12:00:50.369947+05:30   \n",
       "1134  14670.0  vicky      A     9  12:00:51 2024-05-03 12:01:06.039901+05:30   \n",
       "1135  14672.0  vicky      C    10  12:01:08 2024-05-03 12:01:38.554830+05:30   \n",
       "1136  14674.0  vicky      C    11  12:01:44 2024-05-03 12:01:58.320139+05:30   \n",
       "1137  14676.0  vicky      B    12  12:02:06 2024-05-03 12:03:14.765741+05:30   \n",
       "\n",
       "                  date_diff  score  \n",
       "0           0 days 00:00:00      0  \n",
       "1    0 days 00:00:28.725668      0  \n",
       "2    0 days 00:01:57.739452      1  \n",
       "3    0 days 00:01:52.059505      1  \n",
       "4    0 days 00:00:22.092392      1  \n",
       "...                     ...    ...  \n",
       "1133 0 days 00:00:11.068194      0  \n",
       "1134 0 days 00:00:15.669954      0  \n",
       "1135 0 days 00:00:32.514929      1  \n",
       "1136 0 days 00:00:19.765309      1  \n",
       "1137 0 days 00:01:16.445602      1  \n",
       "\n",
       "[1078 rows x 8 columns]"
      ]
     },
     "execution_count": 4,
     "metadata": {},
     "output_type": "execute_result"
    }
   ],
   "source": [
    "unprompted_df"
   ]
  },
  {
   "cell_type": "code",
   "execution_count": 5,
   "metadata": {},
   "outputs": [
    {
     "data": {
      "text/html": [
       "<div>\n",
       "<style scoped>\n",
       "    .dataframe tbody tr th:only-of-type {\n",
       "        vertical-align: middle;\n",
       "    }\n",
       "\n",
       "    .dataframe tbody tr th {\n",
       "        vertical-align: top;\n",
       "    }\n",
       "\n",
       "    .dataframe thead th {\n",
       "        text-align: right;\n",
       "    }\n",
       "</style>\n",
       "<table border=\"1\" class=\"dataframe\">\n",
       "  <thead>\n",
       "    <tr style=\"text-align: right;\">\n",
       "      <th></th>\n",
       "      <th>id</th>\n",
       "      <th>user</th>\n",
       "      <th>action</th>\n",
       "      <th>page</th>\n",
       "      <th>time</th>\n",
       "      <th>date</th>\n",
       "      <th>date_diff</th>\n",
       "      <th>score</th>\n",
       "    </tr>\n",
       "  </thead>\n",
       "  <tbody>\n",
       "    <tr>\n",
       "      <th>0</th>\n",
       "      <td>11850</td>\n",
       "      <td>12220919</td>\n",
       "      <td>B</td>\n",
       "      <td>1</td>\n",
       "      <td>17:55:32</td>\n",
       "      <td>2024-05-04 17:55:45.728929+05:30</td>\n",
       "      <td>0 days 00:00:00</td>\n",
       "      <td>0</td>\n",
       "    </tr>\n",
       "    <tr>\n",
       "      <th>1</th>\n",
       "      <td>11854</td>\n",
       "      <td>12220919</td>\n",
       "      <td>C</td>\n",
       "      <td>2</td>\n",
       "      <td>17:55:49</td>\n",
       "      <td>2024-05-04 17:56:26.867639+05:30</td>\n",
       "      <td>0 days 00:00:41.138710</td>\n",
       "      <td>1</td>\n",
       "    </tr>\n",
       "    <tr>\n",
       "      <th>2</th>\n",
       "      <td>11856</td>\n",
       "      <td>12220919</td>\n",
       "      <td>D</td>\n",
       "      <td>3</td>\n",
       "      <td>17:56:27</td>\n",
       "      <td>2024-05-04 17:56:58.990856+05:30</td>\n",
       "      <td>0 days 00:00:32.123217</td>\n",
       "      <td>1</td>\n",
       "    </tr>\n",
       "    <tr>\n",
       "      <th>3</th>\n",
       "      <td>11860</td>\n",
       "      <td>12220919</td>\n",
       "      <td>B</td>\n",
       "      <td>4</td>\n",
       "      <td>17:57:00</td>\n",
       "      <td>2024-05-04 17:58:02.296098+05:30</td>\n",
       "      <td>0 days 00:01:03.305242</td>\n",
       "      <td>0</td>\n",
       "    </tr>\n",
       "    <tr>\n",
       "      <th>4</th>\n",
       "      <td>11862</td>\n",
       "      <td>12220919</td>\n",
       "      <td>B</td>\n",
       "      <td>5</td>\n",
       "      <td>17:58:03</td>\n",
       "      <td>2024-05-04 17:58:17.628693+05:30</td>\n",
       "      <td>0 days 00:00:15.332595</td>\n",
       "      <td>0</td>\n",
       "    </tr>\n",
       "    <tr>\n",
       "      <th>...</th>\n",
       "      <td>...</td>\n",
       "      <td>...</td>\n",
       "      <td>...</td>\n",
       "      <td>...</td>\n",
       "      <td>...</td>\n",
       "      <td>...</td>\n",
       "      <td>...</td>\n",
       "      <td>...</td>\n",
       "    </tr>\n",
       "    <tr>\n",
       "      <th>1075</th>\n",
       "      <td>13040</td>\n",
       "      <td>senthl</td>\n",
       "      <td>C</td>\n",
       "      <td>8</td>\n",
       "      <td>13:20:55</td>\n",
       "      <td>2024-05-07 13:21:03.063266+05:30</td>\n",
       "      <td>0 days 00:00:04.649613</td>\n",
       "      <td>0</td>\n",
       "    </tr>\n",
       "    <tr>\n",
       "      <th>1076</th>\n",
       "      <td>13042</td>\n",
       "      <td>senthl</td>\n",
       "      <td>B</td>\n",
       "      <td>9</td>\n",
       "      <td>13:20:59</td>\n",
       "      <td>2024-05-07 13:21:05.773575+05:30</td>\n",
       "      <td>0 days 00:00:02.710309</td>\n",
       "      <td>0</td>\n",
       "    </tr>\n",
       "    <tr>\n",
       "      <th>1077</th>\n",
       "      <td>13044</td>\n",
       "      <td>senthl</td>\n",
       "      <td>D</td>\n",
       "      <td>10</td>\n",
       "      <td>13:21:02</td>\n",
       "      <td>2024-05-07 13:21:08.448087+05:30</td>\n",
       "      <td>0 days 00:00:02.674512</td>\n",
       "      <td>0</td>\n",
       "    </tr>\n",
       "    <tr>\n",
       "      <th>1078</th>\n",
       "      <td>13046</td>\n",
       "      <td>senthl</td>\n",
       "      <td>D</td>\n",
       "      <td>11</td>\n",
       "      <td>13:21:04</td>\n",
       "      <td>2024-05-07 13:21:10.823473+05:30</td>\n",
       "      <td>0 days 00:00:02.375386</td>\n",
       "      <td>0</td>\n",
       "    </tr>\n",
       "    <tr>\n",
       "      <th>1079</th>\n",
       "      <td>13050</td>\n",
       "      <td>senthl</td>\n",
       "      <td>C</td>\n",
       "      <td>12</td>\n",
       "      <td>13:21:17</td>\n",
       "      <td>2024-05-07 13:21:28.163496+05:30</td>\n",
       "      <td>0 days 00:00:17.340023</td>\n",
       "      <td>0</td>\n",
       "    </tr>\n",
       "  </tbody>\n",
       "</table>\n",
       "<p>948 rows × 8 columns</p>\n",
       "</div>"
      ],
      "text/plain": [
       "         id      user action  page      time                             date  \\\n",
       "0     11850  12220919      B     1  17:55:32 2024-05-04 17:55:45.728929+05:30   \n",
       "1     11854  12220919      C     2  17:55:49 2024-05-04 17:56:26.867639+05:30   \n",
       "2     11856  12220919      D     3  17:56:27 2024-05-04 17:56:58.990856+05:30   \n",
       "3     11860  12220919      B     4  17:57:00 2024-05-04 17:58:02.296098+05:30   \n",
       "4     11862  12220919      B     5  17:58:03 2024-05-04 17:58:17.628693+05:30   \n",
       "...     ...       ...    ...   ...       ...                              ...   \n",
       "1075  13040    senthl      C     8  13:20:55 2024-05-07 13:21:03.063266+05:30   \n",
       "1076  13042    senthl      B     9  13:20:59 2024-05-07 13:21:05.773575+05:30   \n",
       "1077  13044    senthl      D    10  13:21:02 2024-05-07 13:21:08.448087+05:30   \n",
       "1078  13046    senthl      D    11  13:21:04 2024-05-07 13:21:10.823473+05:30   \n",
       "1079  13050    senthl      C    12  13:21:17 2024-05-07 13:21:28.163496+05:30   \n",
       "\n",
       "                  date_diff  score  \n",
       "0           0 days 00:00:00      0  \n",
       "1    0 days 00:00:41.138710      1  \n",
       "2    0 days 00:00:32.123217      1  \n",
       "3    0 days 00:01:03.305242      0  \n",
       "4    0 days 00:00:15.332595      0  \n",
       "...                     ...    ...  \n",
       "1075 0 days 00:00:04.649613      0  \n",
       "1076 0 days 00:00:02.710309      0  \n",
       "1077 0 days 00:00:02.674512      0  \n",
       "1078 0 days 00:00:02.375386      0  \n",
       "1079 0 days 00:00:17.340023      0  \n",
       "\n",
       "[948 rows x 8 columns]"
      ]
     },
     "execution_count": 5,
     "metadata": {},
     "output_type": "execute_result"
    }
   ],
   "source": [
    "no_as_df"
   ]
  },
  {
   "cell_type": "code",
   "execution_count": 6,
   "metadata": {},
   "outputs": [],
   "source": [
    "# prompted_df.to_csv('new_new_prompted_filtered_scores.csv')"
   ]
  },
  {
   "cell_type": "code",
   "execution_count": 7,
   "metadata": {},
   "outputs": [],
   "source": [
    "# unprompted_df.to_csv('unprompted_filtered_scores.csv')"
   ]
  },
  {
   "cell_type": "markdown",
   "metadata": {},
   "source": [
    "## Total Score"
   ]
  },
  {
   "cell_type": "code",
   "execution_count": 8,
   "metadata": {},
   "outputs": [
    {
     "name": "stdout",
     "output_type": "stream",
     "text": [
      "prompted df 69\n",
      "unprompted df 90\n",
      "no as df 79\n",
      "\n",
      "F-statistic: 3.697919519882509\n",
      "p-value: 0.02622813809105422\n",
      "\n",
      "Means of the score\n",
      "   Multiple Comparison of Means - Tukey HSD, FWER=0.05    \n",
      "==========================================================\n",
      " group1    group2   meandiff p-adj   lower   upper  reject\n",
      "----------------------------------------------------------\n",
      "   no_as   prompted   -0.929 0.2139 -2.2311  0.3731  False\n",
      "   no_as unprompted  -1.3899 0.0208 -2.6082 -0.1715   True\n",
      "prompted unprompted  -0.4609 0.6662 -1.7253  0.8036  False\n",
      "----------------------------------------------------------\n"
     ]
    },
    {
     "data": {
      "image/png": "[encoded data removed]",
      "text/plain": [
       "<Figure size 640x480 with 1 Axes>"
      ]
     },
     "metadata": {},
     "output_type": "display_data"
    }
   ],
   "source": [
    "cl.stats(no_as_df, prompted_df, unprompted_df)\n"
   ]
  },
  {
   "cell_type": "markdown",
   "metadata": {},
   "source": [
    "## Strtify the data between CRT and Maths"
   ]
  },
  {
   "cell_type": "code",
   "execution_count": 9,
   "metadata": {},
   "outputs": [],
   "source": [
    "prompted_crt, prompted_math = cl.stratify(prompted_df)\n",
    "unprompted_crt, unprompted_math = cl.stratify(unprompted_df)\n",
    "no_as_crt, no_as_math = cl.stratify(no_as_df)"
   ]
  },
  {
   "cell_type": "code",
   "execution_count": 10,
   "metadata": {},
   "outputs": [
    {
     "name": "stdout",
     "output_type": "stream",
     "text": [
      "prompted df 69\n",
      "unprompted df 90\n",
      "no as df 79\n",
      "\n",
      "F-statistic: 1.402077735967276\n",
      "p-value: 0.2481359514377582\n",
      "\n",
      "Means of the score\n",
      "   Multiple Comparison of Means - Tukey HSD, FWER=0.05   \n",
      "=========================================================\n",
      " group1    group2   meandiff p-adj   lower  upper  reject\n",
      "---------------------------------------------------------\n",
      "   no_as   prompted  -0.4713  0.455 -1.3985 0.4559  False\n",
      "   no_as unprompted  -0.5925  0.243 -1.4601  0.275  False\n",
      "prompted unprompted  -0.1213 0.9459 -1.0216 0.7791  False\n",
      "---------------------------------------------------------\n"
     ]
    },
    {
     "data": {
      "image/png": "[encoded data removed]",
      "text/plain": [
       "<Figure size 640x480 with 1 Axes>"
      ]
     },
     "metadata": {},
     "output_type": "display_data"
    }
   ],
   "source": [
    "cl.stats(no_as_crt, prompted_crt, unprompted_crt)"
   ]
  },
  {
   "cell_type": "code",
   "execution_count": 11,
   "metadata": {},
   "outputs": [
    {
     "name": "stdout",
     "output_type": "stream",
     "text": [
      "prompted df 69\n",
      "unprompted df 90\n",
      "no as df 79\n",
      "\n",
      "F-statistic: 6.088841622280295\n",
      "p-value: 0.0026417157062147405\n",
      "\n",
      "Means of the score\n",
      "   Multiple Comparison of Means - Tukey HSD, FWER=0.05    \n",
      "==========================================================\n",
      " group1    group2   meandiff p-adj   lower   upper  reject\n",
      "----------------------------------------------------------\n",
      "   no_as   prompted  -0.4577  0.149 -1.0343  0.1188  False\n",
      "   no_as unprompted  -0.7973 0.0017 -1.3368 -0.2579   True\n",
      "prompted unprompted  -0.3396 0.3268 -0.8995  0.2203  False\n",
      "----------------------------------------------------------\n"
     ]
    },
    {
     "data": {
      "image/png": "[encoded data removed]",
      "text/plain": [
       "<Figure size 640x480 with 1 Axes>"
      ]
     },
     "metadata": {},
     "output_type": "display_data"
    }
   ],
   "source": [
    "cl.stats(no_as_math, prompted_math, unprompted_math)"
   ]
  },
  {
   "cell_type": "markdown",
   "metadata": {},
   "source": [
    "## More analysis for Math questions:"
   ]
  },
  {
   "cell_type": "code",
   "execution_count": 12,
   "metadata": {},
   "outputs": [],
   "source": [
    "no_as_math_count = cl.stats_for_math(no_as_math)\n",
    "prompted_math_count = cl.stats_for_math(prompted_math)\n",
    "unprompted_math_count = cl.stats_for_math(unprompted_math)"
   ]
  },
  {
   "cell_type": "code",
   "execution_count": 13,
   "metadata": {},
   "outputs": [
    {
     "data": {
      "image/png": "[encoded data removed]",
      "text/plain": [
       "<Figure size 1000x600 with 1 Axes>"
      ]
     },
     "metadata": {},
     "output_type": "display_data"
    }
   ],
   "source": [
    "cl.plot_for_incorrect_math(no_as_math_count, prompted_math_count, unprompted_math_count)"
   ]
  },
  {
   "cell_type": "code",
   "execution_count": 14,
   "metadata": {},
   "outputs": [
    {
     "name": "stdout",
     "output_type": "stream",
     "text": [
      "prompted df 69\n",
      "unprompted df 90\n",
      "no as df 79\n",
      "\n",
      "no assistance mean: 4.341772151898734\n",
      "prompted mean: 3.8840579710144927\n",
      "unprompted mean: 3.5444444444444443\n",
      "\n"
     ]
    },
    {
     "data": {
      "image/png": "[encoded data removed]",
      "text/plain": [
       "<Figure size 640x480 with 1 Axes>"
      ]
     },
     "metadata": {},
     "output_type": "display_data"
    }
   ],
   "source": [
    "cl.math_mean_score(no_as_math, prompted_math, unprompted_math)"
   ]
  },
  {
   "cell_type": "code",
   "execution_count": 15,
   "metadata": {},
   "outputs": [
    {
     "data": {
      "image/png": "[encoded data removed]",
      "text/plain": [
       "<Figure size 640x480 with 1 Axes>"
      ]
     },
     "metadata": {},
     "output_type": "display_data"
    }
   ],
   "source": [
    "cl.plot_showing_significance()"
   ]
  },
  {
   "cell_type": "markdown",
   "metadata": {},
   "source": [
    "# Time Analysis\n",
    "\n",
    "Combine all the datasets together.\n"
   ]
  },
  {
   "cell_type": "code",
   "execution_count": 16,
   "metadata": {},
   "outputs": [
    {
     "data": {
      "text/html": [
       "<div>\n",
       "<style scoped>\n",
       "    .dataframe tbody tr th:only-of-type {\n",
       "        vertical-align: middle;\n",
       "    }\n",
       "\n",
       "    .dataframe tbody tr th {\n",
       "        vertical-align: top;\n",
       "    }\n",
       "\n",
       "    .dataframe thead th {\n",
       "        text-align: right;\n",
       "    }\n",
       "</style>\n",
       "<table border=\"1\" class=\"dataframe\">\n",
       "  <thead>\n",
       "    <tr style=\"text-align: right;\">\n",
       "      <th></th>\n",
       "      <th>id</th>\n",
       "      <th>user</th>\n",
       "      <th>action</th>\n",
       "      <th>page</th>\n",
       "      <th>time</th>\n",
       "      <th>date</th>\n",
       "      <th>date_diff</th>\n",
       "      <th>score</th>\n",
       "    </tr>\n",
       "  </thead>\n",
       "  <tbody>\n",
       "    <tr>\n",
       "      <th>7</th>\n",
       "      <td>16478.0</td>\n",
       "      <td>088</td>\n",
       "      <td>B</td>\n",
       "      <td>8</td>\n",
       "      <td>18:48:07</td>\n",
       "      <td>2024-05-08 18:47:58.697417+05:30</td>\n",
       "      <td>0 days 00:00:39.190096</td>\n",
       "      <td>1</td>\n",
       "    </tr>\n",
       "    <tr>\n",
       "      <th>8</th>\n",
       "      <td>16490.0</td>\n",
       "      <td>088</td>\n",
       "      <td>C</td>\n",
       "      <td>9</td>\n",
       "      <td>18:48:51</td>\n",
       "      <td>2024-05-08 18:48:18.742661+05:30</td>\n",
       "      <td>0 days 00:00:20.045244</td>\n",
       "      <td>1</td>\n",
       "    </tr>\n",
       "    <tr>\n",
       "      <th>9</th>\n",
       "      <td>16508.0</td>\n",
       "      <td>088</td>\n",
       "      <td>C</td>\n",
       "      <td>10</td>\n",
       "      <td>18:49:12</td>\n",
       "      <td>2024-05-08 18:48:57.694904+05:30</td>\n",
       "      <td>0 days 00:00:38.952243</td>\n",
       "      <td>1</td>\n",
       "    </tr>\n",
       "    <tr>\n",
       "      <th>10</th>\n",
       "      <td>16531.0</td>\n",
       "      <td>088</td>\n",
       "      <td>C</td>\n",
       "      <td>11</td>\n",
       "      <td>18:49:44</td>\n",
       "      <td>2024-05-08 18:49:52.720222+05:30</td>\n",
       "      <td>0 days 00:00:55.025318</td>\n",
       "      <td>1</td>\n",
       "    </tr>\n",
       "    <tr>\n",
       "      <th>11</th>\n",
       "      <td>16540.0</td>\n",
       "      <td>088</td>\n",
       "      <td>B</td>\n",
       "      <td>12</td>\n",
       "      <td>18:50:39</td>\n",
       "      <td>2024-05-08 18:50:23.888334+05:30</td>\n",
       "      <td>0 days 00:00:31.168112</td>\n",
       "      <td>1</td>\n",
       "    </tr>\n",
       "    <tr>\n",
       "      <th>...</th>\n",
       "      <td>...</td>\n",
       "      <td>...</td>\n",
       "      <td>...</td>\n",
       "      <td>...</td>\n",
       "      <td>...</td>\n",
       "      <td>...</td>\n",
       "      <td>...</td>\n",
       "      <td>...</td>\n",
       "    </tr>\n",
       "    <tr>\n",
       "      <th>1133</th>\n",
       "      <td>14668.0</td>\n",
       "      <td>vicky</td>\n",
       "      <td>A</td>\n",
       "      <td>8</td>\n",
       "      <td>12:00:40</td>\n",
       "      <td>2024-05-03 12:00:50.369947+05:30</td>\n",
       "      <td>0 days 00:00:11.068194</td>\n",
       "      <td>0</td>\n",
       "    </tr>\n",
       "    <tr>\n",
       "      <th>1134</th>\n",
       "      <td>14670.0</td>\n",
       "      <td>vicky</td>\n",
       "      <td>A</td>\n",
       "      <td>9</td>\n",
       "      <td>12:00:51</td>\n",
       "      <td>2024-05-03 12:01:06.039901+05:30</td>\n",
       "      <td>0 days 00:00:15.669954</td>\n",
       "      <td>0</td>\n",
       "    </tr>\n",
       "    <tr>\n",
       "      <th>1135</th>\n",
       "      <td>14672.0</td>\n",
       "      <td>vicky</td>\n",
       "      <td>C</td>\n",
       "      <td>10</td>\n",
       "      <td>12:01:08</td>\n",
       "      <td>2024-05-03 12:01:38.554830+05:30</td>\n",
       "      <td>0 days 00:00:32.514929</td>\n",
       "      <td>1</td>\n",
       "    </tr>\n",
       "    <tr>\n",
       "      <th>1136</th>\n",
       "      <td>14674.0</td>\n",
       "      <td>vicky</td>\n",
       "      <td>C</td>\n",
       "      <td>11</td>\n",
       "      <td>12:01:44</td>\n",
       "      <td>2024-05-03 12:01:58.320139+05:30</td>\n",
       "      <td>0 days 00:00:19.765309</td>\n",
       "      <td>1</td>\n",
       "    </tr>\n",
       "    <tr>\n",
       "      <th>1137</th>\n",
       "      <td>14676.0</td>\n",
       "      <td>vicky</td>\n",
       "      <td>B</td>\n",
       "      <td>12</td>\n",
       "      <td>12:02:06</td>\n",
       "      <td>2024-05-03 12:03:14.765741+05:30</td>\n",
       "      <td>0 days 00:01:16.445602</td>\n",
       "      <td>1</td>\n",
       "    </tr>\n",
       "  </tbody>\n",
       "</table>\n",
       "<p>448 rows × 8 columns</p>\n",
       "</div>"
      ],
      "text/plain": [
       "           id   user action  page      time                             date  \\\n",
       "7     16478.0    088      B     8  18:48:07 2024-05-08 18:47:58.697417+05:30   \n",
       "8     16490.0    088      C     9  18:48:51 2024-05-08 18:48:18.742661+05:30   \n",
       "9     16508.0    088      C    10  18:49:12 2024-05-08 18:48:57.694904+05:30   \n",
       "10    16531.0    088      C    11  18:49:44 2024-05-08 18:49:52.720222+05:30   \n",
       "11    16540.0    088      B    12  18:50:39 2024-05-08 18:50:23.888334+05:30   \n",
       "...       ...    ...    ...   ...       ...                              ...   \n",
       "1133  14668.0  vicky      A     8  12:00:40 2024-05-03 12:00:50.369947+05:30   \n",
       "1134  14670.0  vicky      A     9  12:00:51 2024-05-03 12:01:06.039901+05:30   \n",
       "1135  14672.0  vicky      C    10  12:01:08 2024-05-03 12:01:38.554830+05:30   \n",
       "1136  14674.0  vicky      C    11  12:01:44 2024-05-03 12:01:58.320139+05:30   \n",
       "1137  14676.0  vicky      B    12  12:02:06 2024-05-03 12:03:14.765741+05:30   \n",
       "\n",
       "                  date_diff  score  \n",
       "7    0 days 00:00:39.190096      1  \n",
       "8    0 days 00:00:20.045244      1  \n",
       "9    0 days 00:00:38.952243      1  \n",
       "10   0 days 00:00:55.025318      1  \n",
       "11   0 days 00:00:31.168112      1  \n",
       "...                     ...    ...  \n",
       "1133 0 days 00:00:11.068194      0  \n",
       "1134 0 days 00:00:15.669954      0  \n",
       "1135 0 days 00:00:32.514929      1  \n",
       "1136 0 days 00:00:19.765309      1  \n",
       "1137 0 days 00:01:16.445602      1  \n",
       "\n",
       "[448 rows x 8 columns]"
      ]
     },
     "execution_count": 16,
     "metadata": {},
     "output_type": "execute_result"
    }
   ],
   "source": [
    "unprompted_math"
   ]
  },
  {
   "cell_type": "code",
   "execution_count": 17,
   "metadata": {},
   "outputs": [
    {
     "data": {
      "image/png": "[encoded data removed]",
      "text/plain": [
       "<Figure size 1200x600 with 1 Axes>"
      ]
     },
     "metadata": {},
     "output_type": "display_data"
    }
   ],
   "source": [
    "import matplotlib.pyplot as plt\n",
    "\n",
    "no_as_math_new = no_as_math.copy()\n",
    "unprompted_math_new = unprompted_math.copy()\n",
    "\n",
    "# Ensure 'date_diff' is in timedelta format and convert to seconds\n",
    "no_as_math_new['date_diff_seconds'] = no_as_math_new['date_diff'].dt.total_seconds()\n",
    "unprompted_math_new['date_diff_seconds'] = unprompted_math_new['date_diff'].dt.total_seconds()\n",
    "\n",
    "# Add a column to distinguish between the two groups\n",
    "no_as_math_new['group'] = 'No As'\n",
    "unprompted_math_new['group'] = 'Unprompted'\n",
    "\n",
    "# Combine the two DataFrames\n",
    "combined_df = pd.concat([no_as_math_new, unprompted_math_new])\n",
    "\n",
    "# Group the data by page and group, then calculate the mean date_diff_seconds\n",
    "grouped = combined_df.groupby(['page', 'group'])['date_diff_seconds'].mean().reset_index()\n",
    "\n",
    "# Pivot the table for plotting\n",
    "pivot_table = grouped.pivot(index='page', columns='group', values='date_diff_seconds')\n",
    "\n",
    "# Plot the data\n",
    "pivot_table.plot(kind='bar', figsize=(12, 6))\n",
    "\n",
    "# Set plot title and labels\n",
    "plt.title('Average Time Spent on Each Page by Users from Both Groups')\n",
    "plt.xlabel('Page')\n",
    "plt.ylabel('Average Time Difference (seconds)')\n",
    "plt.legend(title='Group')\n",
    "\n",
    "# Rotate x-axis labels for better visibility\n",
    "plt.xticks(rotation=45, ha='right')\n",
    "\n",
    "# Show the plot\n",
    "plt.tight_layout()\n",
    "plt.show()"
   ]
  },
  {
   "cell_type": "markdown",
   "metadata": {},
   "source": [
    "# TODO\n",
    "* Remove people who were too fast ( <1 minutes?) - decided on less than 1 minute and more than 25  - DONE\n",
    "* calculate scores - DONE\n",
    "* Stratify by CRT and Math and re-run tests - DONE\n",
    "* Look at apple math question and see who gets it wrong - DONE MANUALLy and DISCUSSED\n",
    "* Time analysis - DONE\n",
    "* Average mean for math questions\n",
    "* Plot for basic math question to show number of people who anserred incorrectly for three groups - DONE\n"
   ]
  },
  {
   "cell_type": "code",
   "execution_count": null,
   "metadata": {},
   "outputs": [],
   "source": []
  },
  {
   "cell_type": "code",
   "execution_count": null,
   "metadata": {},
   "outputs": [],
   "source": []
  },
  {
   "cell_type": "code",
   "execution_count": null,
   "metadata": {},
   "outputs": [],
   "source": []
  },
  {
   "cell_type": "code",
   "execution_count": null,
   "metadata": {},
   "outputs": [],
   "source": [
    "## combine the df's together to get a single df\n",
    "combined_df = pd.concat([prompted_df, unprompted_df, no_as_df], axis=0)\n",
    "combined_df.shape"
   ]
  },
  {
   "cell_type": "code",
   "execution_count": null,
   "metadata": {},
   "outputs": [],
   "source": [
    "# filter out people who didn't spend enough time on the quiz\n",
    "# I need to do a groupby on the user id, and then calculate their times, then I can filter.\n",
    "\n",
    "times = combined_df.groupby('user')['date_diff'].sum()\n",
    "tt = times.astype(np.int64) // 10**9 # convert to seconds\n",
    "tt.hist(bins=100)"
   ]
  },
  {
   "cell_type": "code",
   "execution_count": null,
   "metadata": {},
   "outputs": [],
   "source": []
  },
  {
   "cell_type": "code",
   "execution_count": null,
   "metadata": {},
   "outputs": [],
   "source": [
    "sns.boxplot(tt[tt<1500][tt >60])\n"
   ]
  },
  {
   "cell_type": "code",
   "execution_count": null,
   "metadata": {},
   "outputs": [],
   "source": [
    "tt[tt<1500][tt >60].describe()"
   ]
  },
  {
   "cell_type": "code",
   "execution_count": null,
   "metadata": {},
   "outputs": [],
   "source": [
    "25*60"
   ]
  },
  {
   "cell_type": "markdown",
   "metadata": {},
   "source": [
    "# Score Analysis"
   ]
  },
  {
   "cell_type": "code",
   "execution_count": null,
   "metadata": {},
   "outputs": [],
   "source": [
    "# so I can drop, time, date, date_diff, id for this analysis.\n",
    "no_as_df_sa =no_as_df.drop(['time', 'date', 'date_diff', 'id'], axis=1)\n",
    "\n",
    "## Now I need to create a new column that gives a 1 if their score is correct and a 0 if it's wrong\n",
    "# Correct answers are in the correct_answers_mapped list, which are listed by index according to page numbers\n"
   ]
  },
  {
   "cell_type": "code",
   "execution_count": null,
   "metadata": {},
   "outputs": [],
   "source": [
    "unprompted_df['page'].value_counts()"
   ]
  },
  {
   "cell_type": "code",
   "execution_count": null,
   "metadata": {},
   "outputs": [],
   "source": [
    "prompted_df['page'].value_counts()"
   ]
  },
  {
   "cell_type": "code",
   "execution_count": null,
   "metadata": {},
   "outputs": [],
   "source": [
    "no_as_df['page'].value_counts()"
   ]
  },
  {
   "cell_type": "code",
   "execution_count": null,
   "metadata": {},
   "outputs": [],
   "source": [
    "prompted_df = cl.extract_correct_score(prompted_df)\n",
    "unprompted_df = cl.extract_correct_score(df_unprompted_table)\n",
    "no_as_df = cl.extract_correct_score(df_no_assistance_table)\n"
   ]
  },
  {
   "cell_type": "code",
   "execution_count": null,
   "metadata": {},
   "outputs": [],
   "source": []
  },
  {
   "cell_type": "code",
   "execution_count": null,
   "metadata": {},
   "outputs": [],
   "source": []
  },
  {
   "cell_type": "markdown",
   "metadata": {},
   "source": [
    "## Mapping the Actions of each user into a dictionary"
   ]
  },
  {
   "cell_type": "code",
   "execution_count": null,
   "metadata": {},
   "outputs": [],
   "source": []
  },
  {
   "cell_type": "code",
   "execution_count": null,
   "metadata": {
    "colab": {
     "base_uri": "https://localhost:8080/"
    },
    "id": "NgllYpvg5bLu",
    "outputId": "febbbf3e-96b4-46d3-fb8f-da79475eee0c"
   },
   "outputs": [],
   "source": [
    "prompted_action_user_mapping = {}\n",
    "\n",
    "for index, row in prompted_filtered_df.iterrows():\n",
    "    user = row['user']\n",
    "    action = row['action']\n",
    "    \n",
    "    # Check if the user is already in the dictionary\n",
    "    if user in prompted_action_user_mapping:\n",
    "        # If user is already in dictionary, append the current action to the existing list for that user\n",
    "        prompted_action_user_mapping[user].append(action)\n",
    "    else:\n",
    "        # If the user is not in the dictionary, create a new entry with the action as a list\n",
    "        prompted_action_user_mapping[user] = [action]\n"
   ]
  },
  {
   "cell_type": "markdown",
   "metadata": {},
   "source": [
    "## Filtering/ Removing the all other Actions and storing only the last selected options by the user"
   ]
  },
  {
   "cell_type": "code",
   "execution_count": null,
   "metadata": {
    "colab": {
     "base_uri": "https://localhost:8080/"
    },
    "id": "PU9Nm-Qi8FZd",
    "outputId": "baad55cc-062c-45a3-fe1f-9cc4b34ec07b"
   },
   "outputs": [],
   "source": [
    "prompted_options_before_continue = {}\n",
    "\n",
    "for user, actions in prompted_action_user_mapping.items():\n",
    "    options = []\n",
    "    last_option = None  # This will track the most recent valid option before 'Continue'\n",
    "\n",
    "    for idx, action in enumerate(actions):\n",
    "       if action == 'Start':\n",
    "            start_encountered = True\n",
    "            options = []  # Reset options list when 'Start' action is encountered\n",
    "       elif action == 'Continue' or action == 'End':\n",
    "            if last_option is not None:\n",
    "                options.append(last_option)\n",
    "                last_option = None  # Reset last_option after appending it\n",
    "       elif action not in ['Start', 'Continue', 'End', 'Prompt']:\n",
    "            last_option = action\n",
    "    \n",
    "    prompted_options_before_continue[user] = options\n"
   ]
  },
  {
   "cell_type": "markdown",
   "metadata": {},
   "source": [
    "## Comparing results"
   ]
  },
  {
   "cell_type": "code",
   "execution_count": null,
   "metadata": {},
   "outputs": [],
   "source": [
    "prompted_options_before_continue"
   ]
  },
  {
   "cell_type": "code",
   "execution_count": null,
   "metadata": {
    "colab": {
     "base_uri": "https://localhost:8080/"
    },
    "id": "09dC1dK2-bpI",
    "outputId": "996fc615-f87f-48e9-f613-e64616729865"
   },
   "outputs": [],
   "source": [
    "prompted_comparison_results_by_user = {}\n",
    "\n",
    "for user, actions in prompted_options_before_continue.items():\n",
    "    user_comparison_results = []\n",
    "\n",
    "    for action in actions:\n",
    "        # add 1 if answer is correct, otherwise add 0 to the list\n",
    "        if action in correct_answers_mapped:\n",
    "            action_index = actions.index(action)\n",
    "            correct_answer_at_index = correct_answers_mapped[action_index] if action_index < len(correct_answers_mapped) else None\n",
    "            user_comparison_results.append(1 if action == correct_answer_at_index else 0)\n",
    "        else:\n",
    "            user_comparison_results.append(0)\n",
    "\n",
    "    prompted_comparison_results_by_user[user] = user_comparison_results\n",
    "\n",
    "prompted_comparison_results_by_user"
   ]
  },
  {
   "cell_type": "markdown",
   "metadata": {},
   "source": [
    "## Sum of Scores of each user"
   ]
  },
  {
   "cell_type": "code",
   "execution_count": null,
   "metadata": {
    "colab": {
     "base_uri": "https://localhost:8080/"
    },
    "id": "EAgiSMc9ANp3",
    "outputId": "4a6c1bab-b7f0-4878-c6a2-5bf53700518b"
   },
   "outputs": [],
   "source": [
    "# sum of compared results for each user\n",
    "prompted_sum_of_results_by_user = {}\n",
    "\n",
    "for user, results in prompted_comparison_results_by_user.items():\n",
    "    crt_score = sum(results[:7])  # Sum of first 7 items for CRT\n",
    "    basic_math_score = sum(results[7:])  # Sum of remaining items for Basic Math\n",
    "    total_score = sum(results)  # Sum of all items for Total\n",
    "    prompted_sum_of_results_by_user[user] = {'CRT': crt_score, 'Basic Math': basic_math_score, 'Score': total_score}\n",
    "\n",
    "prompted_sum_of_results_by_user"
   ]
  },
  {
   "cell_type": "code",
   "execution_count": null,
   "metadata": {},
   "outputs": [],
   "source": [
    "len(prompted_sum_of_results_by_user)"
   ]
  },
  {
   "cell_type": "markdown",
   "metadata": {},
   "source": [
    "Exporting the user_id and score to a CSV/Excel"
   ]
  },
  {
   "cell_type": "code",
   "execution_count": null,
   "metadata": {},
   "outputs": [],
   "source": [
    "df = pd.DataFrame.from_dict(prompted_sum_of_results_by_user, orient='index').reset_index()\n",
    "df.rename(columns={'index': 'Roll Number'}, inplace=True)\n",
    "\n",
    "# Export to Excel\n",
    "df.to_excel('prompted_scores.xlsx', index=False)\n",
    "\n",
    "# Export to CSV\n",
    "df.to_csv('prompted_scores.csv', index=False)"
   ]
  },
  {
   "cell_type": "markdown",
   "metadata": {},
   "source": [
    "# Unprompted Analysis"
   ]
  },
  {
   "cell_type": "code",
   "execution_count": null,
   "metadata": {
    "colab": {
     "base_uri": "https://localhost:8080/",
     "height": 1000
    },
    "id": "v9efUsUolnAO",
    "outputId": "d92480de-407b-40e1-e814-7842bee438b4"
   },
   "outputs": [],
   "source": [
    "# unprompted table\n",
    "df_unprompted_table.head(n=41)\n",
    "main_columns= ['id', 'user', 'action', 'page','time', 'date']\n",
    "df_unprompted_table_1 = df_unprompted_table[main_columns]\n",
    "df_unprompted_table_1"
   ]
  },
  {
   "cell_type": "code",
   "execution_count": null,
   "metadata": {},
   "outputs": [],
   "source": [
    "unprompted_grouped_df = df_unprompted_table_1.groupby('user')\n",
    "# grouped_df.head()\n",
    "unprompted_rearranged_df = unprompted_grouped_df.apply(lambda x: x.sort_values(['date', 'time']))\n",
    "unprompted_final_df = unprompted_rearranged_df.reset_index(level=1, drop=True)"
   ]
  },
  {
   "cell_type": "code",
   "execution_count": null,
   "metadata": {},
   "outputs": [],
   "source": [
    "unprompted_final_df['date'] = pd.to_datetime(unprompted_final_df['date'])\n",
    "\n",
    "start_date = pd.Timestamp('2024-04-12').date()\n",
    "end_date = pd.Timestamp.today().date()\n",
    "unprompted_filtered_df = unprompted_final_df[(unprompted_final_df['date'].dt.date >= start_date) & \n",
    "                                         (unprompted_final_df['date'].dt.date <= end_date)]\n",
    "# Optionally, you can reset the index\n",
    "unprompted_filtered_df = unprompted_filtered_df.reset_index(drop=True)\n",
    "unprompted_filtered_df"
   ]
  },
  {
   "cell_type": "code",
   "execution_count": null,
   "metadata": {},
   "outputs": [],
   "source": [
    "unprompted_sorted_df = unprompted_filtered_df.sort_values(['user', 'date'])\n",
    "\n",
    "# Group the DataFrame by 'user' and calculate the datetime difference\n",
    "date_diff = unprompted_sorted_df.groupby('user')['date'].diff()\n",
    "\n",
    "# Fill the first NaN value with the initial datetime\n",
    "date_diff = date_diff.fillna(pd.Timedelta(0))\n",
    "\n",
    "# Assign the date difference to a new column in the original DataFrame\n",
    "unprompted_filtered_df['date_diff'] = date_diff\n",
    "unprompted_filtered_df"
   ]
  },
  {
   "cell_type": "markdown",
   "metadata": {},
   "source": [
    "\n",
    "## Mapping the Actions of each user into a dictionary"
   ]
  },
  {
   "cell_type": "code",
   "execution_count": null,
   "metadata": {},
   "outputs": [],
   "source": [
    "unprompted_action_user_mapping = {}\n",
    "\n",
    "for index, row in unprompted_filtered_df.iterrows():\n",
    "    user = row['user']\n",
    "    action = row['action']\n",
    "    \n",
    "    # Check if the user is already in the dictionary\n",
    "    if user in unprompted_action_user_mapping:\n",
    "        # If user is already in dictionary, append the current action to the existing list for that user\n",
    "        unprompted_action_user_mapping[user].append(action)\n",
    "    else:\n",
    "        # If the user is not in the dictionary, create a new entry with the action as a list\n",
    "        unprompted_action_user_mapping[user] = [action]\n"
   ]
  },
  {
   "cell_type": "markdown",
   "metadata": {},
   "source": [
    "## Filtering/ Removing the all other Actions and storing only the last selected options by the user"
   ]
  },
  {
   "cell_type": "code",
   "execution_count": null,
   "metadata": {},
   "outputs": [],
   "source": [
    "unprompted_options_before_continue = {}\n",
    "\n",
    "for user, actions in unprompted_action_user_mapping.items():\n",
    "    options = []\n",
    "    last_option = None  # This will track the most recent valid option before 'Continue'\n",
    "    start_encountered = False  # Flag to track if 'Start' action has been encountered\n",
    "    \n",
    "    for idx, action in enumerate(actions):\n",
    "        if action == 'Start':\n",
    "            start_encountered = True\n",
    "            options = []  # Reset options list when 'Start' action is encountered\n",
    "        elif action == 'Continue' or action == 'End':\n",
    "            if last_option is not None:\n",
    "                options.append(last_option)\n",
    "                last_option = None  # Reset last_option after appending it\n",
    "        elif action not in ['Start', 'Continue', 'End']:\n",
    "            last_option = action\n",
    "    \n",
    "            unprompted_options_before_continue[user] = options\n"
   ]
  },
  {
   "cell_type": "markdown",
   "metadata": {},
   "source": [
    "## Comparing Results"
   ]
  },
  {
   "cell_type": "code",
   "execution_count": null,
   "metadata": {},
   "outputs": [],
   "source": [
    "unprompted_comparison_results_by_user = {}\n",
    "\n",
    "for user, actions in unprompted_options_before_continue.items():\n",
    "    user_comparison_results = []\n",
    "\n",
    "    for action in actions:\n",
    "        # add 1 if answer is correct, otherwise add 0 to the list\n",
    "        if action in correct_answers_mapped:\n",
    "            action_index = actions.index(action)\n",
    "            correct_answer_at_index = correct_answers_mapped[action_index] if action_index < len(correct_answers_mapped) else None\n",
    "            user_comparison_results.append(1 if action == correct_answer_at_index else 0)\n",
    "        else:\n",
    "            user_comparison_results.append(0)\n",
    "\n",
    "    unprompted_comparison_results_by_user[user] = user_comparison_results\n",
    "\n"
   ]
  },
  {
   "cell_type": "markdown",
   "metadata": {},
   "source": [
    "# Sum of Scores of each user"
   ]
  },
  {
   "cell_type": "code",
   "execution_count": null,
   "metadata": {},
   "outputs": [],
   "source": [
    "# sum of compared results for each user\n",
    "unprompted_sum_of_results_by_user = {}\n",
    "\n",
    "for user, results in unprompted_comparison_results_by_user.items():\n",
    "    crt_score = sum(results[:7])  # Sum of first 7 items for CRT\n",
    "    basic_math_score = sum(results[7:])  # Sum of remaining items for Basic Math\n",
    "    total_score = sum(results)  # Sum of all items for Total\n",
    "    unprompted_sum_of_results_by_user[user] = {'CRT': crt_score, 'Basic Math': basic_math_score, 'Score': total_score}\n",
    "\n",
    "unprompted_sum_of_results_by_user"
   ]
  },
  {
   "cell_type": "code",
   "execution_count": null,
   "metadata": {},
   "outputs": [],
   "source": [
    "len(unprompted_sum_of_results_by_user)"
   ]
  },
  {
   "cell_type": "markdown",
   "metadata": {},
   "source": [
    "## Exporting the user_id and score to a CSV/Excel"
   ]
  },
  {
   "cell_type": "code",
   "execution_count": null,
   "metadata": {},
   "outputs": [],
   "source": [
    "import pandas as pd\n",
    "\n",
    "df = pd.DataFrame.from_dict(unprompted_sum_of_results_by_user, orient='index').reset_index()\n",
    "df.rename(columns={'index': 'Roll Number'}, inplace=True)\n",
    "\n",
    "# excel\n",
    "df.to_excel('unprompted_scores.xlsx', index=False)\n",
    "#csv\n",
    "df.to_csv('unprompted_scores.csv', index=False)"
   ]
  },
  {
   "cell_type": "markdown",
   "metadata": {},
   "source": [
    "# No Assistance"
   ]
  },
  {
   "cell_type": "code",
   "execution_count": null,
   "metadata": {},
   "outputs": [],
   "source": [
    "# no assistance table\n",
    "df_no_assistance_table.head(n=41)\n",
    "main_columns= ['id', 'user', 'action', 'page','time', 'date']\n",
    "df_no_assistance_table_1 = df_no_assistance_table[main_columns]\n",
    "df_no_assistance_table_1"
   ]
  },
  {
   "cell_type": "code",
   "execution_count": null,
   "metadata": {},
   "outputs": [],
   "source": [
    "no_assistance_grouped_df = df_no_assistance_table_1.groupby('user')\n",
    "# grouped_df.head()\n",
    "no_assistance_rearranged_df = no_assistance_grouped_df.apply(lambda x: x.sort_values(['date', 'time']))\n",
    "no_assistance_final_df = no_assistance_rearranged_df.reset_index(level=1, drop=True)\n"
   ]
  },
  {
   "cell_type": "code",
   "execution_count": null,
   "metadata": {},
   "outputs": [],
   "source": [
    "no_assistance_final_df['date'] = pd.to_datetime(no_assistance_final_df['date'])\n",
    "\n",
    "start_date = pd.Timestamp('2024-04-12').date()\n",
    "end_date = pd.Timestamp.today().date()\n",
    "no_assistance_filtered_df = no_assistance_final_df[(no_assistance_final_df['date'].dt.date >= start_date) & \n",
    "                                         (no_assistance_final_df['date'].dt.date <= end_date)]\n",
    "# Optionally, you can reset the index\n",
    "no_assistance_filtered_df = no_assistance_filtered_df.reset_index(drop=True)"
   ]
  },
  {
   "cell_type": "code",
   "execution_count": null,
   "metadata": {},
   "outputs": [],
   "source": [
    "no_assistance_sorted_df = no_assistance_filtered_df.sort_values(['user', 'date'])\n",
    "\n",
    "# Group the DataFrame by 'user' and calculate the datetime difference\n",
    "date_diff = no_assistance_sorted_df.groupby('user')['date'].diff()\n",
    "\n",
    "# Fill the first NaN value with the initial datetime\n",
    "date_diff = date_diff.fillna(pd.Timedelta(0))\n",
    "\n",
    "# Assign the date difference to a new column in the original DataFrame\n",
    "no_assistance_filtered_df['date_diff'] = date_diff\n",
    "no_assistance_filtered_df"
   ]
  },
  {
   "cell_type": "markdown",
   "metadata": {},
   "source": [
    "## Mapping the Actions of each user into a dictionary"
   ]
  },
  {
   "cell_type": "code",
   "execution_count": null,
   "metadata": {},
   "outputs": [],
   "source": [
    "no_assistance_action_user_mapping = {}\n",
    "\n",
    "for index, row in no_assistance_filtered_df.iterrows():\n",
    "    user = row['user']\n",
    "    action = row['action']\n",
    "    \n",
    "    # Check if the user is already in the dictionary\n",
    "    if user in no_assistance_action_user_mapping:\n",
    "        # If user is already in dictionary, append the current action to the existing list for that user\n",
    "        no_assistance_action_user_mapping[user].append(action)\n",
    "    else:\n",
    "        # If the user is not in the dictionary, create a new entry with the action as a list\n",
    "        no_assistance_action_user_mapping[user] = [action]\n",
    "\n"
   ]
  },
  {
   "cell_type": "markdown",
   "metadata": {},
   "source": [
    "## Filtering/ Removing the all other Actions and storing only the last selected options by the user"
   ]
  },
  {
   "cell_type": "code",
   "execution_count": null,
   "metadata": {},
   "outputs": [],
   "source": [
    "no_assistance_options_before_continue = {}\n",
    "\n",
    "for user, actions in no_assistance_action_user_mapping.items():\n",
    "    options = []\n",
    "    last_option = None  # This will track the most recent valid option before 'Continue'\n",
    "\n",
    "    for idx, action in enumerate(actions):\n",
    "        if action == 'Start':\n",
    "            start_encountered = True\n",
    "            options = []  # Reset options list when 'Start' action is encountered\n",
    "        elif action == 'Continue' or action == 'End':\n",
    "            if last_option is not None:\n",
    "                options.append(last_option)\n",
    "                last_option = None  # Reset last_option after appending it\n",
    "        elif action not in ['Start', 'Continue', 'End']:\n",
    "            last_option = action\n",
    "    \n",
    "    no_assistance_options_before_continue[user] = options\n",
    "\n"
   ]
  },
  {
   "cell_type": "code",
   "execution_count": null,
   "metadata": {},
   "outputs": [],
   "source": [
    "no_assistance_comparison_results_by_user = {}\n",
    "\n",
    "for user, actions in no_assistance_options_before_continue.items():\n",
    "    user_comparison_results = []\n",
    "\n",
    "    for action in actions:\n",
    "        # add 1 if answer is correct, otherwise add 0 to the list\n",
    "        if action in correct_answers_mapped:\n",
    "            action_index = actions.index(action)\n",
    "            correct_answer_at_index = correct_answers_mapped[action_index] if action_index < len(correct_answers_mapped) else None\n",
    "            user_comparison_results.append(1 if action == correct_answer_at_index else 0)\n",
    "        else:\n",
    "            user_comparison_results.append(0)\n",
    "\n",
    "    no_assistance_comparison_results_by_user[user] = user_comparison_results\n",
    "\n"
   ]
  },
  {
   "cell_type": "markdown",
   "metadata": {},
   "source": [
    "## Sum of Scores of each user"
   ]
  },
  {
   "cell_type": "code",
   "execution_count": null,
   "metadata": {},
   "outputs": [],
   "source": [
    "\n",
    "# sum of compared results for each user\n",
    "no_assistance_sum_of_results_by_user = {}\n",
    "\n",
    "for user, results in no_assistance_comparison_results_by_user.items():\n",
    "    crt_score = sum(results[:7])  # Sum of first 7 items for CRT\n",
    "    basic_math_score = sum(results[7:])  # Sum of remaining items for Basic Math\n",
    "    total_score = sum(results)  # Sum of all items for Total\n",
    "    no_assistance_sum_of_results_by_user[user] = {'CRT': crt_score, 'Basic Math': basic_math_score, 'Score': total_score}\n",
    "\n",
    "no_assistance_sum_of_results_by_user"
   ]
  },
  {
   "cell_type": "code",
   "execution_count": null,
   "metadata": {},
   "outputs": [],
   "source": [
    "len(no_assistance_sum_of_results_by_user)"
   ]
  },
  {
   "cell_type": "markdown",
   "metadata": {},
   "source": [
    "Exporting the user_id and score to a CSV/Excel"
   ]
  },
  {
   "cell_type": "code",
   "execution_count": null,
   "metadata": {},
   "outputs": [],
   "source": [
    "import pandas as pd\n",
    "\n",
    "df = pd.DataFrame.from_dict(no_assistance_sum_of_results_by_user, orient='index').reset_index()\n",
    "df.rename(columns={'index': 'Roll Number'}, inplace=True)\n",
    "\n",
    "# excel\n",
    "df.to_excel('no_assistance_scores.xlsx', index=False)\n",
    "#csv\n",
    "df.to_csv('no_assistance_scores.csv', index=False)"
   ]
  },
  {
   "cell_type": "markdown",
   "metadata": {},
   "source": [
    "## Plots"
   ]
  },
  {
   "cell_type": "code",
   "execution_count": null,
   "metadata": {},
   "outputs": [],
   "source": [
    "import pandas as pd\n",
    "import numpy as np\n",
    "import matplotlib.pyplot as plt\n",
    "\n",
    "prompted_score_df = pd.read_csv('prompted_scores.csv')\n",
    "unprompted_score_df = pd.read_csv('unprompted_scores.csv')\n",
    "no_assistance_score_df = pd.read_csv('no_assistance_scores.csv')"
   ]
  },
  {
   "cell_type": "markdown",
   "metadata": {},
   "source": [
    "## CRT Score"
   ]
  },
  {
   "cell_type": "code",
   "execution_count": null,
   "metadata": {},
   "outputs": [],
   "source": [
    "unprompted_counts = unprompted_score_df['CRT'].value_counts().sort_index()\n",
    "prompted_counts = prompted_score_df['CRT'].value_counts().sort_index()\n",
    "no_assistance_counts = no_assistance_score_df['CRT'].value_counts().sort_index()\n",
    "\n",
    "# Get the maximum CRT score for setting x-axis limits\n",
    "max_crt_score = max(unprompted_score_df['CRT'].max(), prompted_score_df['CRT'].max(), no_assistance_score_df['CRT'].max())\n",
    "\n",
    "# Get a sorted array of all unique CRT scores present in the data from all groups\n",
    "unique_scores = sorted(set(unprompted_score_df['CRT']) | set(prompted_score_df['CRT']) | set(no_assistance_score_df['CRT']))\n",
    "\n",
    "# Map the counts to the unique_scores, filling missing values with 0\n",
    "unprompted_mapped_counts = unprompted_counts.reindex(unique_scores, fill_value=0)\n",
    "prompted_mapped_counts = prompted_counts.reindex(unique_scores, fill_value=0)\n",
    "no_assistance_mapped_counts = no_assistance_counts.reindex(unique_scores, fill_value=0)\n",
    "\n",
    "# Define the positions of the bars\n",
    "positions = np.arange(len(unique_scores))\n",
    "\n",
    "# Create a new figure for plotting\n",
    "plt.figure(figsize=(10, 6))\n",
    "bar_width = 0.25\n",
    "\n",
    "# Plot vertical bars for each group\n",
    "plt.bar(positions - bar_width, unprompted_mapped_counts, width=bar_width, color='blue', label='Unprompted', edgecolor='black')\n",
    "plt.bar(positions, prompted_mapped_counts, width=bar_width, color='orange', label='Prompted', edgecolor='black')\n",
    "plt.bar(positions + bar_width, no_assistance_mapped_counts, width=bar_width, color='green', label='No Assistance', edgecolor='black')\n",
    "\n",
    "# Set the x-axis ticks to the positions of the scores and label them with the actual scores\n",
    "plt.xticks(positions, unique_scores)\n",
    "\n",
    "# Add labels and title\n",
    "plt.xlabel('CRT Score')\n",
    "plt.ylabel('Number of Students')\n",
    "plt.title('Number of Students per CRT Score by Group')\n",
    "\n",
    "# Add legend\n",
    "plt.legend()\n",
    "\n",
    "# Save the plot\n",
    "output_folder = 'output_folder'\n",
    "os.makedirs(output_folder, exist_ok=True)\n",
    "plot_filename = 'crt_score_by_group.png'\n",
    "plot_path = os.path.join(output_folder, plot_filename)\n",
    "plt.savefig(plot_path)\n",
    "\n",
    "# Show the plot\n",
    "plt.tight_layout()  # Adjust layout to prevent clipping of tick-labels\n",
    "plt.show()"
   ]
  },
  {
   "cell_type": "markdown",
   "metadata": {},
   "source": [
    "## Basic Math Score"
   ]
  },
  {
   "cell_type": "code",
   "execution_count": null,
   "metadata": {},
   "outputs": [],
   "source": [
    "unprompted_counts = unprompted_score_df['Basic Math'].value_counts().sort_index()\n",
    "prompted_counts = prompted_score_df['Basic Math'].value_counts().sort_index()\n",
    "no_assistance_counts = no_assistance_score_df['Basic Math'].value_counts().sort_index()\n",
    "\n",
    "# Get the maximum CRT score for setting x-axis limits\n",
    "max_crt_score = max(unprompted_score_df['Basic Math'].max(), prompted_score_df['CRT'].max(), no_assistance_score_df['CRT'].max())\n",
    "\n",
    "# Get a sorted array of all unique CRT scores present in the data from all groups\n",
    "unique_scores = sorted(set(unprompted_score_df['Basic Math']) | set(prompted_score_df['CRT']) | set(no_assistance_score_df['CRT']))\n",
    "\n",
    "# Map the counts to the unique_scores, filling missing values with 0\n",
    "unprompted_mapped_counts = unprompted_counts.reindex(unique_scores, fill_value=0)\n",
    "prompted_mapped_counts = prompted_counts.reindex(unique_scores, fill_value=0)\n",
    "no_assistance_mapped_counts = no_assistance_counts.reindex(unique_scores, fill_value=0)\n",
    "\n",
    "# Define the positions of the bars\n",
    "positions = np.arange(len(unique_scores))\n",
    "\n",
    "# Create a new figure for plotting\n",
    "plt.figure(figsize=(10, 6))\n",
    "bar_width = 0.25\n",
    "\n",
    "# Plot vertical bars for each group\n",
    "plt.bar(positions - bar_width, unprompted_mapped_counts, width=bar_width, color='blue', label='Unprompted', edgecolor='black')\n",
    "plt.bar(positions, prompted_mapped_counts, width=bar_width, color='orange', label='Prompted', edgecolor='black')\n",
    "plt.bar(positions + bar_width, no_assistance_mapped_counts, width=bar_width, color='green', label='No Assistance', edgecolor='black')\n",
    "\n",
    "# Set the x-axis ticks to the positions of the scores and label them with the actual scores\n",
    "plt.xticks(positions, unique_scores)\n",
    "\n",
    "# Add labels and title\n",
    "plt.xlabel('Basic Math Score')\n",
    "plt.ylabel('Number of Students')\n",
    "plt.title('Number of Students per Basic Math Score by Group')\n",
    "\n",
    "# Add legend\n",
    "plt.legend()\n",
    "\n",
    "plot_filename = 'basic_math_score_by_group.png'\n",
    "plot_path = os.path.join(output_folder, plot_filename)\n",
    "plt.savefig(plot_path)\n",
    "\n",
    "# Show the plot\n",
    "plt.tight_layout()  # Adjust layout to prevent clipping of tick-labels\n",
    "plt.show()"
   ]
  },
  {
   "cell_type": "markdown",
   "metadata": {},
   "source": [
    "## Total Score"
   ]
  },
  {
   "cell_type": "code",
   "execution_count": null,
   "metadata": {},
   "outputs": [],
   "source": [
    "unprompted_counts = unprompted_score_df['Score'].value_counts().sort_index()\n",
    "prompted_counts = prompted_score_df['Score'].value_counts().sort_index()\n",
    "no_assistance_counts = no_assistance_score_df['Score'].value_counts().sort_index()\n",
    "\n",
    "# Get the maximum CRT score for setting x-axis limits\n",
    "max_crt_score = max(unprompted_score_df['Score'].max(), prompted_score_df['Score'].max(), no_assistance_score_df['CRT'].max())\n",
    "\n",
    "# Get a sorted array of all unique CRT scores present in the data from all groups\n",
    "unique_scores = sorted(set(unprompted_score_df['Score']) | set(prompted_score_df['Score']) | set(no_assistance_score_df['CRT']))\n",
    "\n",
    "# Map the counts to the unique_scores, filling missing values with 0\n",
    "unprompted_mapped_counts = unprompted_counts.reindex(unique_scores, fill_value=0)\n",
    "prompted_mapped_counts = prompted_counts.reindex(unique_scores, fill_value=0)\n",
    "no_assistance_mapped_counts = no_assistance_counts.reindex(unique_scores, fill_value=0)\n",
    "\n",
    "# Define the positions of the bars\n",
    "positions = np.arange(len(unique_scores))\n",
    "\n",
    "# Create a new figure for plotting\n",
    "plt.figure(figsize=(10, 6))\n",
    "bar_width = 0.25\n",
    "\n",
    "# Plot vertical bars for each group\n",
    "plt.bar(positions - bar_width, unprompted_mapped_counts, width=bar_width, color='blue', label='Unprompted', edgecolor='black')\n",
    "plt.bar(positions, prompted_mapped_counts, width=bar_width, color='orange', label='Prompted', edgecolor='black')\n",
    "plt.bar(positions + bar_width, no_assistance_mapped_counts, width=bar_width, color='green', label='No Assistance', edgecolor='black')\n",
    "\n",
    "# Set the x-axis ticks to the positions of the scores and label them with the actual scores\n",
    "plt.xticks(positions, unique_scores)\n",
    "\n",
    "# Add labels and title\n",
    "plt.xlabel('Total Score')\n",
    "plt.ylabel('Number of Students')\n",
    "plt.title('Number of Students per Total Score by Group')\n",
    "\n",
    "# Add legend\n",
    "plt.legend()\n",
    "\n",
    "plot_filename = 'total_score_by_group.png'\n",
    "plot_path = os.path.join(output_folder, plot_filename)\n",
    "plt.savefig(plot_path)\n",
    "\n",
    "# Show the plot\n",
    "plt.tight_layout()  # Adjust layout to prevent clipping of tick-labels\n",
    "plt.show()"
   ]
  },
  {
   "cell_type": "markdown",
   "metadata": {},
   "source": [
    "## ANOVA"
   ]
  },
  {
   "cell_type": "markdown",
   "metadata": {},
   "source": [
    "## CRT Score"
   ]
  },
  {
   "cell_type": "code",
   "execution_count": null,
   "metadata": {},
   "outputs": [],
   "source": [
    "from scipy.stats import f_oneway\n",
    "\n",
    "# Extracting the CRT scores for each group\n",
    "unprompted_crt_scores = unprompted_score_df['CRT']\n",
    "prompted_crt_scores = prompted_score_df['CRT']\n",
    "no_assistance_crt_scores = no_assistance_score_df['CRT']\n",
    "\n",
    "# Performing a one-way ANOVA\n",
    "f_statistic, p_value = f_oneway(unprompted_crt_scores, prompted_crt_scores, no_assistance_crt_scores)\n",
    "\n",
    "f_statistic, p_value\n",
    "print(f\"F-statistic: {f_statistic:.4f}\")\n",
    "print(f\"P-value: {p_value:.4f}\")"
   ]
  },
  {
   "cell_type": "markdown",
   "metadata": {},
   "source": [
    "## Basic Math"
   ]
  },
  {
   "cell_type": "code",
   "execution_count": null,
   "metadata": {},
   "outputs": [],
   "source": [
    "from scipy.stats import f_oneway\n",
    "\n",
    "# Extracting the CRT scores for each group\n",
    "unprompted_crt_scores = unprompted_score_df['Basic Math']\n",
    "prompted_crt_scores = prompted_score_df['Basic Math']\n",
    "no_assistance_crt_scores = no_assistance_score_df['Basic Math']\n",
    "\n",
    "# Performing a one-way ANOVA\n",
    "f_statistic, p_value = f_oneway(unprompted_crt_scores, prompted_crt_scores, no_assistance_crt_scores)\n",
    "\n",
    "f_statistic, p_value\n",
    "print(f\"F-statistic: {f_statistic:.4f}\")\n",
    "print(f\"P-value: {p_value:.4f}\")"
   ]
  },
  {
   "cell_type": "markdown",
   "metadata": {},
   "source": [
    "## Total Score"
   ]
  },
  {
   "cell_type": "code",
   "execution_count": null,
   "metadata": {},
   "outputs": [],
   "source": [
    "from scipy.stats import f_oneway\n",
    "\n",
    "# Extracting the CRT scores for each group\n",
    "unprompted_crt_scores = unprompted_score_df['Score']\n",
    "prompted_crt_scores = prompted_score_df['Score']\n",
    "no_assistance_crt_scores = no_assistance_score_df['Score']\n",
    "\n",
    "# Performing a one-way ANOVA\n",
    "f_statistic, p_value = f_oneway(unprompted_crt_scores, prompted_crt_scores, no_assistance_crt_scores)\n",
    "\n",
    "f_statistic, p_value\n",
    "print(f\"F-statistic: {f_statistic:.4f}\")\n",
    "print(f\"P-value: {p_value:.4f}\")"
   ]
  },
  {
   "cell_type": "markdown",
   "metadata": {},
   "source": [
    "## Comparison between CGPA and Current Score of Users"
   ]
  },
  {
   "cell_type": "code",
   "execution_count": null,
   "metadata": {},
   "outputs": [],
   "source": [
    "user_data_df.head(n=41)\n",
    "main_columns= ['roll_no', 'cgpa']\n",
    "user_data_df_table_1_copy = user_data_df[main_columns]\n",
    "user_data_df_table_1_copy"
   ]
  },
  {
   "cell_type": "code",
   "execution_count": null,
   "metadata": {},
   "outputs": [],
   "source": [
    "user_data_df_table_1 = user_data_df_table_1_copy.copy()\n",
    "user_data_df_table_1.rename(columns={'roll_no': 'Roll Number'}, inplace=True)"
   ]
  },
  {
   "cell_type": "code",
   "execution_count": null,
   "metadata": {},
   "outputs": [],
   "source": [
    "user_data_df_table_1.rename(columns={'roll_no': 'Roll Number'}, inplace=True)\n",
    "\n",
    "prompted_df = prompted_score_df.merge(user_data_df_table_1, on='Roll Number')\n",
    "unprompted_df = unprompted_score_df.merge(user_data_df_table_1, on='Roll Number')\n",
    "no_assistance_df = no_assistance_score_df.merge(user_data_df_table_1, on='Roll Number')\n",
    "\n",
    "# Now you can analyze the relationship between CGPA and quiz scores.\n",
    "# For example, you can calculate the correlation coefficient for each group.\n",
    "prompted_correlation = prompted_df[['cgpa', 'Score']].corr()\n",
    "unprompted_correlation = unprompted_df[['cgpa', 'Score']].corr()\n",
    "no_assistance_correlation = no_assistance_df[['cgpa', 'Score']].corr()\n",
    "\n",
    "# You can print the correlation coefficients to get a quick sense of the relationships\n",
    "print(\"Correlation between CGPA and Quiz Score for Prompted Group:\\n\", prompted_correlation)\n",
    "print(\"Correlation between CGPA and Quiz Score for Unprompted Group:\\n\", unprompted_correlation)\n",
    "print(\"Correlation between CGPA and Quiz Score for No Assistance Group:\\n\", no_assistance_correlation)\n",
    "\n",
    "# To visualize the relationships, you could create scatter plots:\n",
    "import matplotlib.pyplot as plt\n",
    "\n",
    "def plot_relationship(df, group_name):\n",
    "    plt.scatter(df['cgpa'], df['Score'])\n",
    "    plt.title(f'Scatter Plot of CGPA vs Quiz Score ({group_name} Group)')\n",
    "    plt.xlabel('CGPA')\n",
    "    plt.ylabel('Quiz Score')\n",
    "    plt.show()\n",
    "\n",
    "plot_relationship(prompted_df, 'Prompted')\n",
    "plot_relationship(unprompted_df, 'Unprompted')\n",
    "plot_relationship(no_assistance_df, 'No Assistance')\n"
   ]
  },
  {
   "cell_type": "code",
   "execution_count": null,
   "metadata": {},
   "outputs": [],
   "source": [
    "import matplotlib.pyplot as plt\n",
    "\n",
    "# Create a single scatter plot with different colors for each group\n",
    "plt.figure(figsize=(10, 6))\n",
    "\n",
    "plt.scatter(prompted_df['cgpa'], prompted_df['Score'], color='blue', label='Prompted Group')\n",
    "plt.scatter(unprompted_df['cgpa'], unprompted_df['Score'], color='orange', label='Unprompted Group')\n",
    "plt.scatter(no_assistance_df['cgpa'], no_assistance_df['Score'], color='green', label='No Assistance Group')\n",
    "\n",
    "# Labeling the axes and the plot\n",
    "plt.xlabel('CGPA')\n",
    "plt.ylabel('Quiz Score')\n",
    "plt.title('Scatter Plot of CGPA vs Quiz Score for All Groups')\n",
    "\n",
    "# Add a legend to explain which color corresponds to which group\n",
    "plt.legend()\n",
    "\n",
    "plot_filename = 'total_vs_cgpa_scatter_plot.png'\n",
    "plot_path = os.path.join(output_folder, plot_filename)\n",
    "plt.savefig(plot_path)\n",
    "\n",
    "# Show the plot\n",
    "plt.show()"
   ]
  },
  {
   "cell_type": "code",
   "execution_count": null,
   "metadata": {},
   "outputs": [],
   "source": [
    "import matplotlib.pyplot as plt\n",
    "\n",
    "# Create a single scatter plot with different colors for each group\n",
    "plt.figure(figsize=(10, 6))\n",
    "\n",
    "plt.scatter(prompted_df['cgpa'], prompted_df['CRT'], color='blue', label='Prompted Group')\n",
    "plt.scatter(unprompted_df['cgpa'], unprompted_df['CRT'], color='orange', label='Unprompted Group')\n",
    "plt.scatter(no_assistance_df['cgpa'], no_assistance_df['CRT'], color='green', label='No Assistance Group')\n",
    "\n",
    "# Labeling the axes and the plot\n",
    "plt.xlabel('CGPA')\n",
    "plt.ylabel('CRT Score')\n",
    "plt.title('Scatter Plot of CGPA vs CRT Score for All Groups')\n",
    "\n",
    "# Add a legend to explain which color corresponds to which group\n",
    "plt.legend()\n",
    "\n",
    "plot_filename = 'crt_vs_cgpa_scatter_plot.png'\n",
    "plot_path = os.path.join(output_folder, plot_filename)\n",
    "plt.savefig(plot_path)\n",
    "\n",
    "# Show the plot\n",
    "plt.show()"
   ]
  },
  {
   "cell_type": "code",
   "execution_count": null,
   "metadata": {},
   "outputs": [],
   "source": [
    "import matplotlib.pyplot as plt\n",
    "\n",
    "# Create a single scatter plot with different colors for each group\n",
    "plt.figure(figsize=(10, 6))\n",
    "\n",
    "plt.scatter(prompted_df['cgpa'], prompted_df['Basic Math'], color='blue', label='Prompted Group')\n",
    "plt.scatter(unprompted_df['cgpa'], unprompted_df['Basic Math'], color='orange', label='Unprompted Group')\n",
    "plt.scatter(no_assistance_df['cgpa'], no_assistance_df['Basic Math'], color='green', label='No Assistance Group')\n",
    "\n",
    "# Labeling the axes and the plot\n",
    "plt.xlabel('CGPA')\n",
    "plt.ylabel('Basic Math Score')\n",
    "plt.title('Scatter Plot of CGPA vs Basic Math Score for All Groups')\n",
    "\n",
    "# Add a legend to explain which color corresponds to which group\n",
    "plt.legend()\n",
    "\n",
    "plot_filename = 'bm_vs_cgpa_scatter_plot.png'\n",
    "plot_path = os.path.join(output_folder, plot_filename)\n",
    "plt.savefig(plot_path)\n",
    "\n",
    "# Show the plot\n",
    "plt.show()"
   ]
  },
  {
   "cell_type": "code",
   "execution_count": null,
   "metadata": {},
   "outputs": [],
   "source": [
    "user_data_df_table_1_copy = user_data_df_table_1.copy()\n",
    "user_data_df_table_1_copy.rename(columns={'roll_no': 'Roll Number'}, inplace=True)\n"
   ]
  },
  {
   "cell_type": "code",
   "execution_count": null,
   "metadata": {},
   "outputs": [],
   "source": [
    "prompted_df = prompted_score_df.merge(user_data_df_table_1, on='Roll Number')\n",
    "unprompted_df = unprompted_score_df.merge(user_data_df_table_1, on='Roll Number')\n",
    "no_assistance_df = no_assistance_score_df.merge(user_data_df_table_1, on='Roll Number')\n",
    "\n",
    "group_data = {\n",
    "    'Groups': ['Unprompted', 'Prompted', 'No Assistance'],\n",
    "    'Average Score': [\n",
    "        unprompted_df['Score'].mean(),\n",
    "        prompted_df['Score'].mean(),\n",
    "        no_assistance_df['Score'].mean()\n",
    "    ],\n",
    "    'Average CGPA': [\n",
    "        unprompted_df['cgpa'].mean(),\n",
    "        prompted_df['cgpa'].mean(),\n",
    "        no_assistance_df['cgpa'].mean()\n",
    "    ],\n",
    "    'Average CRT Score': [\n",
    "        unprompted_df['CRT'].mean(),\n",
    "        prompted_df['CRT'].mean(),\n",
    "        no_assistance_df['CRT'].mean()\n",
    "    ],\n",
    "    'Average Baisc Math score': [\n",
    "        unprompted_df['Basic Math'].mean(),\n",
    "        prompted_df['Basic Math'].mean(),\n",
    "        no_assistance_df['Basic Math'].mean()\n",
    "    ]\n",
    "    \n",
    "}\n",
    "\n",
    "group_df = pd.DataFrame(group_data)\n",
    "\n",
    "# Setting up the x-axis for the bar graph\n",
    "x = np.arange(len(group_df))\n",
    "\n",
    "# Defining the width of the bars\n",
    "width = 0.35\n",
    "\n",
    "fig, ax = plt.subplots(figsize=(10, 8))\n",
    "\n",
    "# Calculating the positions of the group bar clusters\n",
    "bar_positions = np.arange(len(group_df['Groups']))\n",
    "\n",
    "# Setting up individual bar positions within each cluster\n",
    "bar_positions1 = bar_positions - width/2 - width/4\n",
    "bar_positions2 = bar_positions - width/4\n",
    "bar_positions3 = bar_positions + width/4\n",
    "bar_positions4 = bar_positions + width/2 + width/4\n",
    "\n",
    "# Plotting each set of bars\n",
    "rects1 = ax.bar(bar_positions1, group_df['Average Score'], width/2, label='Average Score', color='royalblue')\n",
    "rects2 = ax.bar(bar_positions2, group_df['Average CRT Score'], width/2, label='Average CRT Score', color='orange')\n",
    "rects3 = ax.bar(bar_positions3, group_df['Average Baisc Math score'], width/2, label='Average Basic Math Score', color='green')\n",
    "rects4 = ax.bar(bar_positions4, group_df['Average CGPA'], width/2, label='Average CGPA', color='red')\n",
    "\n",
    "# Adding labels, title, and custom x-axis tick labels\n",
    "ax.set_ylabel('Values')\n",
    "ax.set_title('Performance Analysis by Group')\n",
    "ax.set_xticks(bar_positions)\n",
    "ax.set_xticklabels(group_df['Groups'])\n",
    "ax.legend()\n",
    "\n",
    "# Autolabel function to attach a text label above each bar, displaying its height\n",
    "def autolabel(rects):\n",
    "    \"\"\"Attach a text label above each bar in *rects*, displaying its height.\"\"\"\n",
    "    for rect in rects:\n",
    "        height = rect.get_height()\n",
    "        ax.annotate('{}'.format(round(height, 2)),\n",
    "                    xy=(rect.get_x() + rect.get_width() / 2, height),\n",
    "                    xytext=(0, 3),  # 3 points vertical offset\n",
    "                    textcoords=\"offset points\",\n",
    "                    ha='center', va='bottom')\n",
    "\n",
    "# Calling the autolabel function for each set of bars\n",
    "autolabel(rects1)\n",
    "autolabel(rects2)\n",
    "autolabel(rects3)\n",
    "autolabel(rects4)\n",
    "\n",
    "plot_filename = 'performance_analysis_by_group.png'\n",
    "plot_path = os.path.join(output_folder, plot_filename)\n",
    "plt.savefig(plot_path)\n",
    "\n",
    "# Displaying the bar graph\n",
    "plt.tight_layout()\n",
    "plt.show()\n"
   ]
  },
  {
   "cell_type": "markdown",
   "metadata": {},
   "source": [
    "## FEEDBACK"
   ]
  },
  {
   "cell_type": "code",
   "execution_count": null,
   "metadata": {},
   "outputs": [],
   "source": [
    "df_feedback_ques"
   ]
  },
  {
   "cell_type": "code",
   "execution_count": null,
   "metadata": {},
   "outputs": [],
   "source": [
    "df_feedback_ans['date'] = pd.to_datetime(df_feedback_ans['date'])\n",
    "\n",
    "start_date = pd.Timestamp('2024-04-12').date()\n",
    "end_date = pd.Timestamp.today().date()\n",
    "df_feedback_ans = df_feedback_ans[(df_feedback_ans['date'].dt.date >= start_date) & \n",
    "                                         (df_feedback_ans['date'].dt.date <= end_date)]\n",
    "df_feedback_ans"
   ]
  },
  {
   "cell_type": "code",
   "execution_count": null,
   "metadata": {},
   "outputs": [],
   "source": [
    "first_4_questions = df_feedback_ques.head(4)\n",
    "first_4_questions"
   ]
  },
  {
   "cell_type": "code",
   "execution_count": null,
   "metadata": {},
   "outputs": [],
   "source": [
    "# merged_df = pd.merge(df_feedback_ques, df_feedback_ans, how='left')\n",
    "\n",
    "# Create a dictionary to store user actions\n",
    "user_actions = {}\n",
    "\n",
    "# Iterate over the merged dataframe\n",
    "for _, row in df_feedback_ans.iterrows():\n",
    "    user_id = row['user']\n",
    "    action = row['action']\n",
    "    question = row['page']\n",
    "\n",
    "    # Check if the user is already in the dictionary\n",
    "    if user_id in user_actions:\n",
    "        # If the user exists, append the action to the list\n",
    "        user_actions[user_id].append((question, action))\n",
    "    else:\n",
    "        # If the user doesn't exist, create a new entry with a list containing the action\n",
    "        user_actions[user_id] = [(question, action)]\n"
   ]
  },
  {
   "cell_type": "code",
   "execution_count": null,
   "metadata": {},
   "outputs": [],
   "source": [
    "cleaned_data = {}\n",
    "for user, responses in user_actions.items():\n",
    "    latest_responses = {}\n",
    "    # Reverse the list so we process the latest occurrence first\n",
    "    for question, response in reversed(responses):\n",
    "        if question not in latest_responses:\n",
    "            latest_responses[question] = response\n",
    "    cleaned_data[user] = latest_responses\n",
    "\n"
   ]
  },
  {
   "cell_type": "code",
   "execution_count": null,
   "metadata": {},
   "outputs": [],
   "source": [
    "first_4_questions_user_response_data = {}\n",
    "\n",
    "for user, responses in cleaned_data.items():\n",
    "    filtered_responses = {q: r for q, r in responses.items() if q in [\"Question 1\", \"Question 2\", \"Question 3\", \"Question 4\"]}\n",
    "    first_4_questions_user_response_data[user] = filtered_responses\n"
   ]
  },
  {
   "cell_type": "code",
   "execution_count": null,
   "metadata": {},
   "outputs": [],
   "source": [
    "questions_user_response_data_5_to_8 = {}\n",
    "\n",
    "for user, responses in cleaned_data.items():\n",
    "    filtered_responses = {q: r for q, r in responses.items() if q in [\"Question 5\", \"Question 6\", \"Question 7\", \"Question 8\"]}\n",
    "    questions_user_response_data_5_to_8[user] = filtered_responses\n"
   ]
  },
  {
   "cell_type": "code",
   "execution_count": null,
   "metadata": {},
   "outputs": [],
   "source": [
    "questions_1_to_4 = {}\n",
    "questions_5_to_8 = {}\n",
    "remaining_9_to_18 = {}\n",
    "\n",
    "for user, actions in user_actions.items():\n",
    "    questions_1_to_4[user] = actions[:4]\n",
    "    questions_5_to_8[user] = actions[4:8]\n",
    "    remaining_9_to_18[user] = actions[8:]\n"
   ]
  },
  {
   "cell_type": "code",
   "execution_count": null,
   "metadata": {},
   "outputs": [],
   "source": [
    "option1_counts = {f'Question {i}': 0 for i in range(1, 5)}\n",
    "option2_counts = {f'Question {i}': 0 for i in range(1, 5)}\n",
    "\n",
    "# Count the number of students who chose option1 or option2 for each question\n",
    "for actions in questions_1_to_4.values():\n",
    "    for question, option in actions:\n",
    "        if option == 'A':\n",
    "            option1_counts[question] += 1\n",
    "        elif option == 'B':\n",
    "            option2_counts[question] += 1\n",
    "\n",
    "# Create a bar chart\n",
    "fig, ax = plt.subplots()\n",
    "question_numbers = list(range(1, 5))\n",
    "bar_width = 0.35\n",
    "\n",
    "option1_bars = ax.bar(question_numbers, option1_counts.values(), bar_width, label='A (Patient option)')\n",
    "option2_bars = ax.bar([x + bar_width for x in question_numbers], option2_counts.values(), bar_width, label='B (Risky option)')\n",
    "\n",
    "# Add labels and title\n",
    "ax.set_xlabel('Question Number')\n",
    "ax.set_ylabel('Number of Students')\n",
    "ax.set_title('Risk type questions (1-4)')\n",
    "ax.set_xticks([x + bar_width / 2 for x in question_numbers])\n",
    "ax.set_xticklabels([f'Question {num}' for num in question_numbers])\n",
    "\n",
    "# Add legend\n",
    "ax.legend()\n",
    "\n",
    "plot_filename = 'questions_1_to_4.png'\n",
    "plot_path = os.path.join(output_folder, plot_filename)\n",
    "plt.savefig(plot_path)\n",
    "\n",
    "# Adjust spacing between subplots\n",
    "plt.tight_layout()\n",
    "\n",
    "# Display the plot\n",
    "plt.show()"
   ]
  },
  {
   "cell_type": "code",
   "execution_count": null,
   "metadata": {},
   "outputs": [],
   "source": [
    "option1_counts = {f'Question {i}': 0 for i in range(1, 19)}\n",
    "option2_counts = {f'Question {i}': 0 for i in range(1, 19)}\n",
    "option3_counts = {f'Question {i}': 0 for i in range(1, 19)}\n",
    "option4_counts = {f'Question {i}': 0 for i in range(1, 19)}\n",
    "option5_counts = {f'Question {i}': 0 for i in range(1, 19)}\n",
    "\n",
    "# Count the number of students who chose each option for each question\n",
    "for actions in questions_5_to_8.values():\n",
    "    for question, option in actions:\n",
    "        if option == 'A':\n",
    "            option1_counts[question] += 1\n",
    "        elif option == 'B':\n",
    "            option2_counts[question] += 1\n",
    "        elif option == 'C':\n",
    "            option3_counts[question] += 1\n",
    "        elif option == 'D':\n",
    "            option4_counts[question] += 1\n",
    "        elif option == 'E':\n",
    "            option5_counts[question] += 1\n",
    "\n",
    "# Create a bar chart\n",
    "fig, ax = plt.subplots(figsize=(10, 6))\n",
    "question_numbers = list(range(5, 9))\n",
    "bar_width = 0.15\n",
    "\n",
    "option1_counts_values = [option1_counts[f'Question {i}'] for i in question_numbers]\n",
    "option2_counts_values = [option2_counts[f'Question {i}'] for i in question_numbers]\n",
    "option3_counts_values = [option3_counts[f'Question {i}'] for i in question_numbers]\n",
    "option4_counts_values = [option4_counts[f'Question {i}'] for i in question_numbers]\n",
    "option5_counts_values = [option5_counts[f'Question {i}'] for i in question_numbers]\n",
    "\n",
    "option1_bars = ax.bar(question_numbers, option1_counts_values, bar_width, label='A')\n",
    "option2_bars = ax.bar([x + bar_width for x in question_numbers], option2_counts_values, bar_width, label='B')\n",
    "option3_bars = ax.bar([x + 2 * bar_width for x in question_numbers], option3_counts_values, bar_width, label='C')\n",
    "option4_bars = ax.bar([x + 3 * bar_width for x in question_numbers], option4_counts_values, bar_width, label='D')\n",
    "option5_bars = ax.bar([x + 4 * bar_width for x in question_numbers], option5_counts_values, bar_width, label='E')\n",
    "\n",
    "# Add labels and title\n",
    "ax.set_xlabel('Question Number')\n",
    "ax.set_ylabel('Number of Students')\n",
    "ax.set_title('Self evaluatin questions (5-8)')\n",
    "ax.set_yticks([0, 2, 4, 6, 8, 10, 12, 14, 16, 18, 20, 22])\n",
    "ax.set_xticks([x + 2 * bar_width for x in question_numbers])\n",
    "ax.set_xticklabels([f'Question {num}' for num in question_numbers])\n",
    "\n",
    "# Add legend\n",
    "ax.legend()\n",
    "plot_filename = 'questions_5_to_8.png'\n",
    "plot_path = os.path.join(output_folder, plot_filename)\n",
    "plt.savefig(plot_path)\n",
    "\n",
    "# Adjust spacing between subplots\n",
    "plt.tight_layout()\n",
    "\n",
    "# Display the plot\n",
    "plt.show()"
   ]
  },
  {
   "cell_type": "code",
   "execution_count": null,
   "metadata": {},
   "outputs": [],
   "source": [
    "option1_counts = {f'Question {i}': 0 for i in range(1, 19)}\n",
    "option2_counts = {f'Question {i}': 0 for i in range(1, 19)}\n",
    "option3_counts = {f'Question {i}': 0 for i in range(1, 19)}\n",
    "option4_counts = {f'Question {i}': 0 for i in range(1, 19)}\n",
    "option5_counts = {f'Question {i}': 0 for i in range(1, 19)}\n",
    "\n",
    "# Count the number of students who chose each option for each question\n",
    "for actions in remaining_9_to_18.values():\n",
    "    for question, option in actions:\n",
    "        if option == 'A':\n",
    "            option1_counts[question] += 1\n",
    "        elif option == 'B':\n",
    "            option2_counts[question] += 1\n",
    "        elif option == 'C':\n",
    "            option3_counts[question] += 1\n",
    "        elif option == 'D':\n",
    "            option4_counts[question] += 1\n",
    "        elif option == 'E':\n",
    "            option5_counts[question] += 1\n",
    "\n",
    "# Create a bar chart\n",
    "fig, ax = plt.subplots(figsize=(10, 6))\n",
    "question_numbers = list(range(9, 19))\n",
    "bar_width = 0.15\n",
    "\n",
    "option1_counts_values = [option1_counts[f'Question {i}'] for i in question_numbers]\n",
    "option2_counts_values = [option2_counts[f'Question {i}'] for i in question_numbers]\n",
    "option3_counts_values = [option3_counts[f'Question {i}'] for i in question_numbers]\n",
    "option4_counts_values = [option4_counts[f'Question {i}'] for i in question_numbers]\n",
    "option5_counts_values = [option5_counts[f'Question {i}'] for i in question_numbers]\n",
    "\n",
    "option1_bars = ax.bar(question_numbers, option1_counts_values, bar_width, label='A')\n",
    "option2_bars = ax.bar([x + bar_width for x in question_numbers], option2_counts_values, bar_width, label='B')\n",
    "option3_bars = ax.bar([x + 2 * bar_width for x in question_numbers], option3_counts_values, bar_width, label='C')\n",
    "option4_bars = ax.bar([x + 3 * bar_width for x in question_numbers], option4_counts_values, bar_width, label='D')\n",
    "option5_bars = ax.bar([x + 4 * bar_width for x in question_numbers], option5_counts_values, bar_width, label='E')\n",
    "\n",
    "# Add labels and title\n",
    "ax.set_xlabel('Question Number')\n",
    "ax.set_ylabel('Number of Students')\n",
    "ax.set_title('AI Feedback questions')\n",
    "ax.set_yticks([0, 2, 4, 6, 8, 10, 12, 14, 16, 18, 20, 22, 24])\n",
    "ax.set_xticks([x + 2 * bar_width for x in question_numbers])\n",
    "ax.set_xticklabels([f'Question {num}' for num in question_numbers])\n",
    "\n",
    "# Add legend\n",
    "ax.legend()\n",
    "\n",
    "plot_filename = 'questions_9_to_18.png'\n",
    "plot_path = os.path.join(output_folder, plot_filename)\n",
    "plt.savefig(plot_path)\n",
    "\n",
    "# Adjust spacing between subplots\n",
    "plt.tight_layout()\n",
    "\n",
    "# Display the plot\n",
    "plt.show()"
   ]
  },
  {
   "cell_type": "markdown",
   "metadata": {},
   "source": [
    "# Analysis withing groups"
   ]
  },
  {
   "cell_type": "markdown",
   "metadata": {},
   "source": [
    "## CRT - T-test"
   ]
  },
  {
   "cell_type": "code",
   "execution_count": null,
   "metadata": {},
   "outputs": [],
   "source": [
    "prompted_scores_df = pd.read_csv(\"prompted_scores.csv\")\n",
    "unprompted_scores_df = pd.read_csv(\"unprompted_scores.csv\")\n",
    "no_assistance_scores_df = pd.read_csv(\"no_assistance_scores.csv\")"
   ]
  },
  {
   "cell_type": "markdown",
   "metadata": {},
   "source": [
    "## Analysis - Prompted group"
   ]
  },
  {
   "cell_type": "code",
   "execution_count": null,
   "metadata": {},
   "outputs": [],
   "source": [
    "crt_prompted_scores_df = prompted_scores_df[['Roll Number', 'CRT']]\n",
    "crt_prompted_scores = crt_prompted_scores_df.set_index('Roll Number')['CRT'].to_dict()\n"
   ]
  },
  {
   "cell_type": "code",
   "execution_count": null,
   "metadata": {},
   "outputs": [],
   "source": [
    "# Convert 'CRT' column to numeric\n",
    "# Now proceed with your original code\n",
    "prompted_sorted_scores = dict(sorted(crt_prompted_scores.items(), key=lambda item: item[1], reverse=True))\n",
    "# prompted_average_score = crt_prompted_scores.mean()\n",
    "# prompted_high_scorers = {k: v for k, v in prompted_sorted_scores.items() if v > prompted_average_score}\n",
    "# prompted_low_scorers = {k: v for k, v in prompted_sorted_scores.items() if v <= prompted_average_score}\n"
   ]
  },
  {
   "cell_type": "code",
   "execution_count": null,
   "metadata": {},
   "outputs": [],
   "source": [
    "prompt_crt_scorers_feedback = {user: first_4_questions_user_response_data[user] for user in prompted_sorted_scores if user in first_4_questions_user_response_data}\n",
    "\n",
    "# Initialize counters for the options\n",
    "prompted_count_crt = {\n",
    "    'Question 1': {'A': 0, 'B': 0},\n",
    "    'Question 2': {'A': 0, 'B': 0},\n",
    "    'Question 3': {'A': 0, 'B': 0},\n",
    "    'Question 4': {'A': 0, 'B': 0},\n",
    "}\n",
    "\n",
    "# Count options for each question among high and low CRT students\n",
    "for responses in prompt_crt_scorers_feedback.values():\n",
    "    for question, option in responses.items():\n",
    "        if question in prompted_count_crt:\n",
    "            prompted_count_crt[question][option] += 1\n",
    "\n",
    "# # Calculate the percentages\n",
    "# total_crt_students = len(prompt_crt_scorers_feedback)\n",
    "# percentages_high = {\n",
    "#     question: {option: (count / total_high_crt_students) * 100 for option, count in options.items()}\n",
    "#         for question, options in prompted_count_crt.items()}\n",
    "\n",
    "prompted_count_crt"
   ]
  },
  {
   "cell_type": "markdown",
   "metadata": {},
   "source": [
    "## Analysis - Unprompted"
   ]
  },
  {
   "cell_type": "code",
   "execution_count": null,
   "metadata": {},
   "outputs": [],
   "source": [
    "crt_unprompted_scores_df = unprompted_scores_df[['Roll Number', 'CRT']]\n",
    "crt_unprompted_scores = crt_unprompted_scores_df.set_index('Roll Number')['CRT'].to_dict()\n"
   ]
  },
  {
   "cell_type": "code",
   "execution_count": null,
   "metadata": {},
   "outputs": [],
   "source": [
    "unprompted_sorted_scores = dict(sorted(crt_unprompted_scores.items(), key=lambda item: item[1], reverse=True))\n",
    "# unprompted_average_score = sum(crt_unprompted_scores.values()) / len(unprompted_sorted_scores)\n",
    "# unprompted_high_scorers = {k: v for k, v in unprompted_sorted_scores.items() if v > unprompted_average_score}\n",
    "# unprompted_low_scorers = {k: v for k, v in unprompted_sorted_scores.items() if v <= unprompted_average_score}"
   ]
  },
  {
   "cell_type": "code",
   "execution_count": null,
   "metadata": {},
   "outputs": [],
   "source": [
    "unprompted_crt_scorers_feedback = {user: first_4_questions_user_response_data[user] for user in unprompted_sorted_scores if user in first_4_questions_user_response_data}\n",
    "\n",
    "# Initialize counters for the options\n",
    "unprompted_crt_count = {\n",
    "    'Question 1': {'A': 0, 'B': 0},\n",
    "    'Question 2': {'A': 0, 'B': 0},\n",
    "    'Question 3': {'A': 0, 'B': 0},\n",
    "    'Question 4': {'A': 0, 'B': 0},\n",
    "}\n",
    "\n",
    "# Count options for each question among high and low CRT students\n",
    "for responses in unprompted_crt_scorers_feedback.values():\n",
    "    for question, option in responses.items():\n",
    "        if question in unprompted_crt_count:\n",
    "            unprompted_crt_count[question][option] += 1\n",
    "\n",
    "# # Calculate the percentages\n",
    "# total_high_crt_students = len(unprompted_crt_scorers_feedback)\n",
    "# percentages_high = {\n",
    "#     question: {option: (count / total_high_crt_students) * 100 for option, count in options.items()}\n",
    "#         for question, options in unprompted_question_counters_high.items()}\n",
    "\n",
    "unprompted_crt_count"
   ]
  },
  {
   "cell_type": "markdown",
   "metadata": {},
   "source": [
    "## Analysis - No Assistance"
   ]
  },
  {
   "cell_type": "code",
   "execution_count": null,
   "metadata": {},
   "outputs": [],
   "source": [
    "crt_no_assistance_scores_df = no_assistance_scores_df[['Roll Number', 'CRT']]\n",
    "crt_no_assistance_scores = crt_no_assistance_scores_df.set_index('Roll Number')['CRT'].to_dict()\n"
   ]
  },
  {
   "cell_type": "code",
   "execution_count": null,
   "metadata": {},
   "outputs": [],
   "source": [
    "no_assistance_sorted_scores = dict(sorted(crt_no_assistance_scores.items(), key=lambda item: item[1], reverse=True))\n",
    "# no_assistance_average_score = sum(crt_no_assistance_scores.values()) / len(no_assistance_sorted_scores)\n",
    "# no_assistance_high_scorers = {k: v for k, v in no_assistance_sorted_scores.items() if v > no_assistance_average_score}\n",
    "# no_assistance_low_scorers = {k: v for k, v in no_assistance_sorted_scores.items() if v <= no_assistance_average_score}"
   ]
  },
  {
   "cell_type": "code",
   "execution_count": null,
   "metadata": {},
   "outputs": [],
   "source": [
    "no_assistance_scorers_feedback = {user: first_4_questions_user_response_data[user] for user in no_assistance_sorted_scores if user in first_4_questions_user_response_data}\n",
    "\n",
    "# Initialize counters for the options\n",
    "no_assistance_count = {\n",
    "    'Question 1': {'A': 0, 'B': 0},\n",
    "    'Question 2': {'A': 0, 'B': 0},\n",
    "    'Question 3': {'A': 0, 'B': 0},\n",
    "    'Question 4': {'A': 0, 'B': 0},\n",
    "}\n",
    "\n",
    "# Count options for each question among high and low CRT students\n",
    "for responses in no_assistance_scorers_feedback.values():\n",
    "    for question, option in responses.items():\n",
    "        if question in no_assistance_count:\n",
    "            no_assistance_count[question][option] += 1\n",
    "\n",
    "# # Calculate the percentages\n",
    "# total_high_crt_students = len(no_assistance_scorers_feedback)\n",
    "# percentages_high = {\n",
    "#     question: {option: (count / total_high_crt_students) * 100 for option, count in options.items()}\n",
    "        # for question, options in question_counters_high.items()}\n",
    "\n",
    "no_assistance_count"
   ]
  },
  {
   "cell_type": "markdown",
   "metadata": {},
   "source": [
    "## ANOVA for the feedback responses"
   ]
  },
  {
   "cell_type": "code",
   "execution_count": null,
   "metadata": {},
   "outputs": [],
   "source": [
    "import numpy as np\n",
    "from scipy.stats import f_oneway\n",
    "# Calculate the proportion of responses choosing option A for each question within each group\n",
    "def calculate_proportions_A(count_dict):\n",
    "    proportions = []\n",
    "    for q in count_dict.values():\n",
    "        total_responses = q['A'] + q['B']\n",
    "        proportion_A = q['A'] / total_responses if total_responses != 0 else 0\n",
    "        proportions.append(proportion_A)\n",
    "    return proportions\n",
    "\n",
    "prop_prompted_A = calculate_proportions_A(prompted_count_crt)\n",
    "prop_unprompted_A = calculate_proportions_A(unprompted_crt_count)\n",
    "prop_no_assistance_A = calculate_proportions_A(no_assistance_count)\n",
    "\n",
    "# One-way ANOVA across the groups for the option B for the 4 intertemporal questions\n",
    "f_val, p_val = f_oneway(prop_prompted_A, prop_unprompted_A, prop_no_assistance_A)\n",
    "f_val, p_val\n"
   ]
  },
  {
   "cell_type": "code",
   "execution_count": null,
   "metadata": {},
   "outputs": [],
   "source": [
    "from scipy.stats import f_oneway\n",
    "\n",
    "def calculate_proportions_B(count_dict):\n",
    "    proportions = []\n",
    "    for q in count_dict.values():\n",
    "        total_responses = q['A'] + q['B']\n",
    "        proportion_B = q['B'] / total_responses if total_responses != 0 else 0\n",
    "        proportions.append(proportion_B)\n",
    "    return proportions\n",
    "\n",
    "prop_prompted = calculate_proportions_B(prompted_count_crt)\n",
    "prop_unprompted = calculate_proportions_B(unprompted_crt_count)\n",
    "prop_no_assistance = calculate_proportions_B(no_assistance_count)\n",
    "\n",
    "# One-way ANOVA across the groups for the option B for the 4 intertemporal questions\n",
    "f_val, p_val = f_oneway(prop_prompted, prop_unprompted, prop_no_assistance)\n",
    "f_val, p_val"
   ]
  },
  {
   "cell_type": "code",
   "execution_count": null,
   "metadata": {},
   "outputs": [],
   "source": []
  }
 ],
 "metadata": {
  "colab": {
   "provenance": []
  },
  "kernelspec": {
   "display_name": "Python 3 (ipykernel)",
   "language": "python",
   "name": "python3"
  },
  "language_info": {
   "codemirror_mode": {
    "name": "ipython",
    "version": 3
   },
   "file_extension": ".py",
   "mimetype": "text/x-python",
   "name": "python",
   "nbconvert_exporter": "python",
   "pygments_lexer": "ipython3",
   "version": "3.11.7"
  }
 },
 "nbformat": 4,
 "nbformat_minor": 4
}
